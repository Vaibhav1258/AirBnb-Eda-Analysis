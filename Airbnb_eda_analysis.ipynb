{
  "nbformat": 4,
  "nbformat_minor": 0,
  "metadata": {
    "colab": {
      "provenance": [],
      "collapsed_sections": [
        "vncDsAP0Gaoa",
        "FJNUwmbgGyua",
        "w6K7xa23Elo4",
        "yQaldy8SH6Dl",
        "PH-0ReGfmX4f",
        "mDgbUHAGgjLW",
        "O_i_v8NEhb9l",
        "HhfV-JJviCcP",
        "Y3lxredqlCYt",
        "3RnN4peoiCZX",
        "x71ZqKXriCWQ",
        "7hBIi_osiCS2",
        "JlHwYmJAmNHm",
        "35m5QtbWiB9F",
        "PoPl-ycgm1ru",
        "H0kj-8xxnORC",
        "nA9Y7ga8ng1Z",
        "PBTbrJXOngz2",
        "u3PMJOP6ngxN",
        "dauF4eBmngu3",
        "bKJF3rekwFvQ",
        "MSa1f5Uengrz",
        "GF8Ens_Soomf",
        "0wOQAZs5pc--",
        "K5QZ13OEpz2H",
        "lQ7QKXXCp7Bj",
        "448CDAPjqfQr",
        "KSlN3yHqYklG",
        "t6dVpIINYklI",
        "ijmpgYnKYklI",
        "-JiQyfWJYklI",
        "EM7whBJCYoAo",
        "fge-S5ZAYoAp",
        "85gYPyotYoAp",
        "RoGjAbkUYoAp",
        "4Of9eVA-YrdM",
        "iky9q4vBYrdO",
        "F6T5p64dYrdO",
        "y-Ehk30pYrdP",
        "bamQiAODYuh1",
        "QHF8YVU7Yuh3",
        "GwzvFGzlYuh3",
        "qYpmQ266Yuh3",
        "OH-pJp9IphqM",
        "bbFf2-_FphqN",
        "_ouA3fa0phqN",
        "Seke61FWphqN",
        "PIIx-8_IphqN",
        "t27r6nlMphqO",
        "r2jJGEOYphqO",
        "b0JNsNcRphqO",
        "BZR9WyysphqO",
        "jj7wYXLtphqO",
        "eZrbJ2SmphqO",
        "rFu4xreNphqO",
        "YJ55k-q6phqO",
        "gCFgpxoyphqP",
        "OVtJsKN_phqQ",
        "lssrdh5qphqQ",
        "U2RJ9gkRphqQ",
        "1M8mcRywphqQ",
        "tgIPom80phqQ",
        "JMzcOPDDphqR",
        "x-EpHcCOp1ci",
        "X_VqEhTip1ck",
        "8zGJKyg5p1ck",
        "PVzmfK_Ep1ck",
        "n3dbpmDWp1ck",
        "ylSl6qgtp1ck",
        "ZWILFDl5p1ck",
        "M7G43BXep1ck",
        "Ag9LCva-p1cl",
        "E6MkPsBcp1cl",
        "2cELzS2fp1cl",
        "3MPXvC8up1cl",
        "NC_X3p0fY2L0",
        "UV0SzAkaZNRQ",
        "YPEH6qLeZNRQ",
        "q29F0dvdveiT",
        "EXh0U9oCveiU",
        "22aHeOlLveiV",
        "JcMwzZxoAimU",
        "8G2x9gOozGDZ",
        "gCX9965dhzqZ",
        "gIfDvo9L0UH2"
      ],
      "include_colab_link": true
    },
    "kernelspec": {
      "name": "python3",
      "display_name": "Python 3"
    },
    "language_info": {
      "name": "python"
    }
  },
  "cells": [
    {
      "cell_type": "markdown",
      "metadata": {
        "id": "view-in-github",
        "colab_type": "text"
      },
      "source": [
        "<a href=\"https://colab.research.google.com/github/Vaibhav1258/AirBnb-Eda-Analysis/blob/main/Airbnb_eda_analysis.ipynb\" target=\"_parent\"><img src=\"https://colab.research.google.com/assets/colab-badge.svg\" alt=\"Open In Colab\"/></a>"
      ]
    },
    {
      "cell_type": "markdown",
      "source": [
        "# **Project Name    - AirBnb Eda Analysis**\n",
        "\n"
      ],
      "metadata": {
        "id": "vncDsAP0Gaoa"
      }
    },
    {
      "cell_type": "markdown",
      "source": [
        "##### **Project Type**    - EDA\n",
        "##### **Contribution**    - Individual\n"
      ],
      "metadata": {
        "id": "beRrZCGUAJYm"
      }
    },
    {
      "cell_type": "markdown",
      "source": [
        "# **Project Summary -**"
      ],
      "metadata": {
        "id": "FJNUwmbgGyua"
      }
    },
    {
      "cell_type": "markdown",
      "source": [
        "Airbnb is a platform that connects people who want to rent out their homes\n",
        "or spare rooms with travelers looking for accommodations worldwide.\n",
        "\n",
        "It provides an easy way for homeowners to earn income from their properties.\n",
        "Travelers often prefer Airbnb over hotels or guest houses because it is cheaper, has more character, and feels homier.\n",
        "\n",
        "Airbnb generates its main revenue by charging a rental fee for each booking.\n",
        "\n",
        "The platform has millions of listings, resulting in a vast amount of data.\n",
        "\n",
        "Data is crucial for the company as it helps in making business decisions, guiding marketing initiatives, understanding customer and host behavior, and implementing additional services.\n",
        "\n",
        "The project's focus is on data cleaning and preparation for analysis, followed by uncovering unique insights using Python libraries and various visualization techniques to draw conclusions.\n",
        "\n",
        "\n"
      ],
      "metadata": {
        "id": "F6v_1wHtG2nS"
      }
    },
    {
      "cell_type": "markdown",
      "source": [
        "# **GitHub Link -**"
      ],
      "metadata": {
        "id": "w6K7xa23Elo4"
      }
    },
    {
      "cell_type": "markdown",
      "source": [
        "[vaibhav Dwivedi GitHub Link](https://github.com/Vaibhav1258/AirBnb-Eda-Analysis/blob/main/Airbnb_eda_analysis.ipynb)"
      ],
      "metadata": {
        "id": "h1o69JH3Eqqn"
      }
    },
    {
      "cell_type": "markdown",
      "source": [
        "# **Problem Statement**\n"
      ],
      "metadata": {
        "id": "yQaldy8SH6Dl"
      }
    },
    {
      "cell_type": "markdown",
      "source": [
        "\n",
        "\n",
        "1.  Both hosts and guests encounter several problems during the booking and renting process.\n",
        "2.   These issues can be reduced by offering guests and hosts all the essential information they need while booking.\n",
        "1.   Important information includes the location, area, available facilities, fair price comparisons, reliable reviews, and relevant analysis.\n",
        "2.   Providing such information makes it easier for guests and hosts to make the most appropriate and relevant choices for their bookings and accommodations.\n",
        "\n",
        "\n",
        "\n"
      ],
      "metadata": {
        "id": "DpeJGUA3kjGy"
      }
    },
    {
      "cell_type": "markdown",
      "source": [
        "#### **Define Your Business Objective?**"
      ],
      "metadata": {
        "id": "PH-0ReGfmX4f"
      }
    },
    {
      "cell_type": "markdown",
      "source": [
        "Performing the right set of analysis in order to provide the relevent and sufficient information which can proved to be helpful while taking any sort of business decision or running any kind of marketing initiative which ultimately should be focussed towards success of business."
      ],
      "metadata": {
        "id": "PhDvGCAqmjP1"
      }
    },
    {
      "cell_type": "markdown",
      "source": [
        "# **General Guidelines** : -  "
      ],
      "metadata": {
        "id": "mDgbUHAGgjLW"
      }
    },
    {
      "cell_type": "markdown",
      "source": [
        "1.   Well-structured, formatted, and commented code is required.\n",
        "2.   Exception Handling, Production Grade Code & Deployment Ready Code will be a plus. Those students will be awarded some additional credits.\n",
        "     \n",
        "     The additional credits will have advantages over other students during Star Student selection.\n",
        "       \n",
        "             [ Note: - Deployment Ready Code is defined as, the whole .ipynb notebook should be executable in one go\n",
        "                       without a single error logged. ]\n",
        "\n",
        "3.   Each and every logic should have proper comments.\n",
        "4. You may add as many number of charts you want. Make Sure for each and every chart the following format should be answered.\n",
        "        \n",
        "\n",
        "```\n",
        "# Chart visualization code\n",
        "```\n",
        "            \n",
        "\n",
        "*   Why did you pick the specific chart?\n",
        "*   What is/are the insight(s) found from the chart?\n",
        "* Will the gained insights help creating a positive business impact?\n",
        "Are there any insights that lead to negative growth? Justify with specific reason.\n",
        "\n",
        "5. You have to create at least 20 logical & meaningful charts having important insights.\n",
        "\n",
        "\n",
        "[ Hints : - Do the Vizualization in  a structured way while following \"UBM\" Rule.\n",
        "\n",
        "U - Univariate Analysis,\n",
        "\n",
        "B - Bivariate Analysis (Numerical - Categorical, Numerical - Numerical, Categorical - Categorical)\n",
        "\n",
        "M - Multivariate Analysis\n",
        " ]\n",
        "\n",
        "\n",
        "\n"
      ],
      "metadata": {
        "id": "ZrxVaUj-hHfC"
      }
    },
    {
      "cell_type": "markdown",
      "source": [
        "# ***Let's Begin !***"
      ],
      "metadata": {
        "id": "O_i_v8NEhb9l"
      }
    },
    {
      "cell_type": "markdown",
      "source": [
        "## ***1. Know Your Data***"
      ],
      "metadata": {
        "id": "HhfV-JJviCcP"
      }
    },
    {
      "cell_type": "markdown",
      "source": [
        "### Import Libraries"
      ],
      "metadata": {
        "id": "Y3lxredqlCYt"
      }
    },
    {
      "cell_type": "code",
      "source": [
        "# Import Libraries\n",
        "import numpy as np\n",
        "import pandas as pd\n",
        "import matplotlib.pyplot as plt\n",
        "import seaborn as sns\n",
        "%matplotlib inline\n",
        "from datetime import datetime\n",
        "import warnings\n",
        "warnings.filterwarnings('ignore')"
      ],
      "metadata": {
        "id": "M8Vqi-pPk-HR"
      },
      "execution_count": 1,
      "outputs": []
    },
    {
      "cell_type": "markdown",
      "source": [
        "### Dataset Loading"
      ],
      "metadata": {
        "id": "3RnN4peoiCZX"
      }
    },
    {
      "cell_type": "code",
      "source": [
        "# Mounting google colab\n",
        "from google.colab import drive\n",
        "drive.mount('/content/drive')"
      ],
      "metadata": {
        "id": "4CkvbW_SlZ_R",
        "colab": {
          "base_uri": "https://localhost:8080/"
        },
        "outputId": "761e89fa-b0f0-484e-fb70-ac4338970f99"
      },
      "execution_count": 2,
      "outputs": [
        {
          "output_type": "stream",
          "name": "stdout",
          "text": [
            "Mounted at /content/drive\n"
          ]
        }
      ]
    },
    {
      "cell_type": "code",
      "source": [
        "# Load Dataset\n",
        "airbnb_df=pd.read_csv(\"/content/drive/MyDrive/EDA PROJECT/Airbnb NYC 2019.csv\")"
      ],
      "metadata": {
        "id": "Ocz89GfUeiBC"
      },
      "execution_count": 3,
      "outputs": []
    },
    {
      "cell_type": "markdown",
      "source": [
        "### Dataset First View"
      ],
      "metadata": {
        "id": "x71ZqKXriCWQ"
      }
    },
    {
      "cell_type": "code",
      "source": [
        "# Dataset First Look\n",
        "airbnb_df.head()"
      ],
      "metadata": {
        "id": "LWNFOSvLl09H",
        "colab": {
          "base_uri": "https://localhost:8080/",
          "height": 461
        },
        "outputId": "871a00d0-34e2-473e-d2f2-3cc86dc6102b"
      },
      "execution_count": 4,
      "outputs": [
        {
          "output_type": "execute_result",
          "data": {
            "text/plain": [
              "     id                                              name  host_id  \\\n",
              "0  2539                Clean & quiet apt home by the park     2787   \n",
              "1  2595                             Skylit Midtown Castle     2845   \n",
              "2  3647               THE VILLAGE OF HARLEM....NEW YORK !     4632   \n",
              "3  3831                   Cozy Entire Floor of Brownstone     4869   \n",
              "4  5022  Entire Apt: Spacious Studio/Loft by central park     7192   \n",
              "\n",
              "     host_name neighbourhood_group neighbourhood  latitude  longitude  \\\n",
              "0         John            Brooklyn    Kensington  40.64749  -73.97237   \n",
              "1     Jennifer           Manhattan       Midtown  40.75362  -73.98377   \n",
              "2    Elisabeth           Manhattan        Harlem  40.80902  -73.94190   \n",
              "3  LisaRoxanne            Brooklyn  Clinton Hill  40.68514  -73.95976   \n",
              "4        Laura           Manhattan   East Harlem  40.79851  -73.94399   \n",
              "\n",
              "         room_type  price  minimum_nights  number_of_reviews last_review  \\\n",
              "0     Private room    149               1                  9  2018-10-19   \n",
              "1  Entire home/apt    225               1                 45  2019-05-21   \n",
              "2     Private room    150               3                  0         NaN   \n",
              "3  Entire home/apt     89               1                270  2019-07-05   \n",
              "4  Entire home/apt     80              10                  9  2018-11-19   \n",
              "\n",
              "   reviews_per_month  calculated_host_listings_count  availability_365  \n",
              "0               0.21                               6               365  \n",
              "1               0.38                               2               355  \n",
              "2                NaN                               1               365  \n",
              "3               4.64                               1               194  \n",
              "4               0.10                               1                 0  "
            ],
            "text/html": [
              "\n",
              "\n",
              "  <div id=\"df-72095cf1-9468-4f76-9047-f98451ca6288\">\n",
              "    <div class=\"colab-df-container\">\n",
              "      <div>\n",
              "<style scoped>\n",
              "    .dataframe tbody tr th:only-of-type {\n",
              "        vertical-align: middle;\n",
              "    }\n",
              "\n",
              "    .dataframe tbody tr th {\n",
              "        vertical-align: top;\n",
              "    }\n",
              "\n",
              "    .dataframe thead th {\n",
              "        text-align: right;\n",
              "    }\n",
              "</style>\n",
              "<table border=\"1\" class=\"dataframe\">\n",
              "  <thead>\n",
              "    <tr style=\"text-align: right;\">\n",
              "      <th></th>\n",
              "      <th>id</th>\n",
              "      <th>name</th>\n",
              "      <th>host_id</th>\n",
              "      <th>host_name</th>\n",
              "      <th>neighbourhood_group</th>\n",
              "      <th>neighbourhood</th>\n",
              "      <th>latitude</th>\n",
              "      <th>longitude</th>\n",
              "      <th>room_type</th>\n",
              "      <th>price</th>\n",
              "      <th>minimum_nights</th>\n",
              "      <th>number_of_reviews</th>\n",
              "      <th>last_review</th>\n",
              "      <th>reviews_per_month</th>\n",
              "      <th>calculated_host_listings_count</th>\n",
              "      <th>availability_365</th>\n",
              "    </tr>\n",
              "  </thead>\n",
              "  <tbody>\n",
              "    <tr>\n",
              "      <th>0</th>\n",
              "      <td>2539</td>\n",
              "      <td>Clean &amp; quiet apt home by the park</td>\n",
              "      <td>2787</td>\n",
              "      <td>John</td>\n",
              "      <td>Brooklyn</td>\n",
              "      <td>Kensington</td>\n",
              "      <td>40.64749</td>\n",
              "      <td>-73.97237</td>\n",
              "      <td>Private room</td>\n",
              "      <td>149</td>\n",
              "      <td>1</td>\n",
              "      <td>9</td>\n",
              "      <td>2018-10-19</td>\n",
              "      <td>0.21</td>\n",
              "      <td>6</td>\n",
              "      <td>365</td>\n",
              "    </tr>\n",
              "    <tr>\n",
              "      <th>1</th>\n",
              "      <td>2595</td>\n",
              "      <td>Skylit Midtown Castle</td>\n",
              "      <td>2845</td>\n",
              "      <td>Jennifer</td>\n",
              "      <td>Manhattan</td>\n",
              "      <td>Midtown</td>\n",
              "      <td>40.75362</td>\n",
              "      <td>-73.98377</td>\n",
              "      <td>Entire home/apt</td>\n",
              "      <td>225</td>\n",
              "      <td>1</td>\n",
              "      <td>45</td>\n",
              "      <td>2019-05-21</td>\n",
              "      <td>0.38</td>\n",
              "      <td>2</td>\n",
              "      <td>355</td>\n",
              "    </tr>\n",
              "    <tr>\n",
              "      <th>2</th>\n",
              "      <td>3647</td>\n",
              "      <td>THE VILLAGE OF HARLEM....NEW YORK !</td>\n",
              "      <td>4632</td>\n",
              "      <td>Elisabeth</td>\n",
              "      <td>Manhattan</td>\n",
              "      <td>Harlem</td>\n",
              "      <td>40.80902</td>\n",
              "      <td>-73.94190</td>\n",
              "      <td>Private room</td>\n",
              "      <td>150</td>\n",
              "      <td>3</td>\n",
              "      <td>0</td>\n",
              "      <td>NaN</td>\n",
              "      <td>NaN</td>\n",
              "      <td>1</td>\n",
              "      <td>365</td>\n",
              "    </tr>\n",
              "    <tr>\n",
              "      <th>3</th>\n",
              "      <td>3831</td>\n",
              "      <td>Cozy Entire Floor of Brownstone</td>\n",
              "      <td>4869</td>\n",
              "      <td>LisaRoxanne</td>\n",
              "      <td>Brooklyn</td>\n",
              "      <td>Clinton Hill</td>\n",
              "      <td>40.68514</td>\n",
              "      <td>-73.95976</td>\n",
              "      <td>Entire home/apt</td>\n",
              "      <td>89</td>\n",
              "      <td>1</td>\n",
              "      <td>270</td>\n",
              "      <td>2019-07-05</td>\n",
              "      <td>4.64</td>\n",
              "      <td>1</td>\n",
              "      <td>194</td>\n",
              "    </tr>\n",
              "    <tr>\n",
              "      <th>4</th>\n",
              "      <td>5022</td>\n",
              "      <td>Entire Apt: Spacious Studio/Loft by central park</td>\n",
              "      <td>7192</td>\n",
              "      <td>Laura</td>\n",
              "      <td>Manhattan</td>\n",
              "      <td>East Harlem</td>\n",
              "      <td>40.79851</td>\n",
              "      <td>-73.94399</td>\n",
              "      <td>Entire home/apt</td>\n",
              "      <td>80</td>\n",
              "      <td>10</td>\n",
              "      <td>9</td>\n",
              "      <td>2018-11-19</td>\n",
              "      <td>0.10</td>\n",
              "      <td>1</td>\n",
              "      <td>0</td>\n",
              "    </tr>\n",
              "  </tbody>\n",
              "</table>\n",
              "</div>\n",
              "      <button class=\"colab-df-convert\" onclick=\"convertToInteractive('df-72095cf1-9468-4f76-9047-f98451ca6288')\"\n",
              "              title=\"Convert this dataframe to an interactive table.\"\n",
              "              style=\"display:none;\">\n",
              "\n",
              "  <svg xmlns=\"http://www.w3.org/2000/svg\" height=\"24px\"viewBox=\"0 0 24 24\"\n",
              "       width=\"24px\">\n",
              "    <path d=\"M0 0h24v24H0V0z\" fill=\"none\"/>\n",
              "    <path d=\"M18.56 5.44l.94 2.06.94-2.06 2.06-.94-2.06-.94-.94-2.06-.94 2.06-2.06.94zm-11 1L8.5 8.5l.94-2.06 2.06-.94-2.06-.94L8.5 2.5l-.94 2.06-2.06.94zm10 10l.94 2.06.94-2.06 2.06-.94-2.06-.94-.94-2.06-.94 2.06-2.06.94z\"/><path d=\"M17.41 7.96l-1.37-1.37c-.4-.4-.92-.59-1.43-.59-.52 0-1.04.2-1.43.59L10.3 9.45l-7.72 7.72c-.78.78-.78 2.05 0 2.83L4 21.41c.39.39.9.59 1.41.59.51 0 1.02-.2 1.41-.59l7.78-7.78 2.81-2.81c.8-.78.8-2.07 0-2.86zM5.41 20L4 18.59l7.72-7.72 1.47 1.35L5.41 20z\"/>\n",
              "  </svg>\n",
              "      </button>\n",
              "\n",
              "\n",
              "\n",
              "    <div id=\"df-7f41587e-6b8e-47b7-8681-81d5aaee3656\">\n",
              "      <button class=\"colab-df-quickchart\" onclick=\"quickchart('df-7f41587e-6b8e-47b7-8681-81d5aaee3656')\"\n",
              "              title=\"Suggest charts.\"\n",
              "              style=\"display:none;\">\n",
              "\n",
              "<svg xmlns=\"http://www.w3.org/2000/svg\" height=\"24px\"viewBox=\"0 0 24 24\"\n",
              "     width=\"24px\">\n",
              "    <g>\n",
              "        <path d=\"M19 3H5c-1.1 0-2 .9-2 2v14c0 1.1.9 2 2 2h14c1.1 0 2-.9 2-2V5c0-1.1-.9-2-2-2zM9 17H7v-7h2v7zm4 0h-2V7h2v10zm4 0h-2v-4h2v4z\"/>\n",
              "    </g>\n",
              "</svg>\n",
              "      </button>\n",
              "    </div>\n",
              "\n",
              "<style>\n",
              "  .colab-df-quickchart {\n",
              "    background-color: #E8F0FE;\n",
              "    border: none;\n",
              "    border-radius: 50%;\n",
              "    cursor: pointer;\n",
              "    display: none;\n",
              "    fill: #1967D2;\n",
              "    height: 32px;\n",
              "    padding: 0 0 0 0;\n",
              "    width: 32px;\n",
              "  }\n",
              "\n",
              "  .colab-df-quickchart:hover {\n",
              "    background-color: #E2EBFA;\n",
              "    box-shadow: 0px 1px 2px rgba(60, 64, 67, 0.3), 0px 1px 3px 1px rgba(60, 64, 67, 0.15);\n",
              "    fill: #174EA6;\n",
              "  }\n",
              "\n",
              "  [theme=dark] .colab-df-quickchart {\n",
              "    background-color: #3B4455;\n",
              "    fill: #D2E3FC;\n",
              "  }\n",
              "\n",
              "  [theme=dark] .colab-df-quickchart:hover {\n",
              "    background-color: #434B5C;\n",
              "    box-shadow: 0px 1px 3px 1px rgba(0, 0, 0, 0.15);\n",
              "    filter: drop-shadow(0px 1px 2px rgba(0, 0, 0, 0.3));\n",
              "    fill: #FFFFFF;\n",
              "  }\n",
              "</style>\n",
              "\n",
              "    <script>\n",
              "      async function quickchart(key) {\n",
              "        const containerElement = document.querySelector('#' + key);\n",
              "        const charts = await google.colab.kernel.invokeFunction(\n",
              "            'suggestCharts', [key], {});\n",
              "      }\n",
              "    </script>\n",
              "\n",
              "      <script>\n",
              "\n",
              "function displayQuickchartButton(domScope) {\n",
              "  let quickchartButtonEl =\n",
              "    domScope.querySelector('#df-7f41587e-6b8e-47b7-8681-81d5aaee3656 button.colab-df-quickchart');\n",
              "  quickchartButtonEl.style.display =\n",
              "    google.colab.kernel.accessAllowed ? 'block' : 'none';\n",
              "}\n",
              "\n",
              "        displayQuickchartButton(document);\n",
              "      </script>\n",
              "      <style>\n",
              "    .colab-df-container {\n",
              "      display:flex;\n",
              "      flex-wrap:wrap;\n",
              "      gap: 12px;\n",
              "    }\n",
              "\n",
              "    .colab-df-convert {\n",
              "      background-color: #E8F0FE;\n",
              "      border: none;\n",
              "      border-radius: 50%;\n",
              "      cursor: pointer;\n",
              "      display: none;\n",
              "      fill: #1967D2;\n",
              "      height: 32px;\n",
              "      padding: 0 0 0 0;\n",
              "      width: 32px;\n",
              "    }\n",
              "\n",
              "    .colab-df-convert:hover {\n",
              "      background-color: #E2EBFA;\n",
              "      box-shadow: 0px 1px 2px rgba(60, 64, 67, 0.3), 0px 1px 3px 1px rgba(60, 64, 67, 0.15);\n",
              "      fill: #174EA6;\n",
              "    }\n",
              "\n",
              "    [theme=dark] .colab-df-convert {\n",
              "      background-color: #3B4455;\n",
              "      fill: #D2E3FC;\n",
              "    }\n",
              "\n",
              "    [theme=dark] .colab-df-convert:hover {\n",
              "      background-color: #434B5C;\n",
              "      box-shadow: 0px 1px 3px 1px rgba(0, 0, 0, 0.15);\n",
              "      filter: drop-shadow(0px 1px 2px rgba(0, 0, 0, 0.3));\n",
              "      fill: #FFFFFF;\n",
              "    }\n",
              "  </style>\n",
              "\n",
              "      <script>\n",
              "        const buttonEl =\n",
              "          document.querySelector('#df-72095cf1-9468-4f76-9047-f98451ca6288 button.colab-df-convert');\n",
              "        buttonEl.style.display =\n",
              "          google.colab.kernel.accessAllowed ? 'block' : 'none';\n",
              "\n",
              "        async function convertToInteractive(key) {\n",
              "          const element = document.querySelector('#df-72095cf1-9468-4f76-9047-f98451ca6288');\n",
              "          const dataTable =\n",
              "            await google.colab.kernel.invokeFunction('convertToInteractive',\n",
              "                                                     [key], {});\n",
              "          if (!dataTable) return;\n",
              "\n",
              "          const docLinkHtml = 'Like what you see? Visit the ' +\n",
              "            '<a target=\"_blank\" href=https://colab.research.google.com/notebooks/data_table.ipynb>data table notebook</a>'\n",
              "            + ' to learn more about interactive tables.';\n",
              "          element.innerHTML = '';\n",
              "          dataTable['output_type'] = 'display_data';\n",
              "          await google.colab.output.renderOutput(dataTable, element);\n",
              "          const docLink = document.createElement('div');\n",
              "          docLink.innerHTML = docLinkHtml;\n",
              "          element.appendChild(docLink);\n",
              "        }\n",
              "      </script>\n",
              "    </div>\n",
              "  </div>\n"
            ]
          },
          "metadata": {},
          "execution_count": 4
        }
      ]
    },
    {
      "cell_type": "code",
      "source": [
        "airbnb_df.tail()"
      ],
      "metadata": {
        "colab": {
          "base_uri": "https://localhost:8080/",
          "height": 513
        },
        "id": "nIYcemiMfHR1",
        "outputId": "8714ef52-1836-4f6d-8c18-5b94fe35f327"
      },
      "execution_count": 5,
      "outputs": [
        {
          "output_type": "execute_result",
          "data": {
            "text/plain": [
              "             id                                               name   host_id  \\\n",
              "48890  36484665    Charming one bedroom - newly renovated rowhouse   8232441   \n",
              "48891  36485057      Affordable room in Bushwick/East Williamsburg   6570630   \n",
              "48892  36485431            Sunny Studio at Historical Neighborhood  23492952   \n",
              "48893  36485609               43rd St. Time Square-cozy single bed  30985759   \n",
              "48894  36487245  Trendy duplex in the very heart of Hell's Kitchen  68119814   \n",
              "\n",
              "           host_name neighbourhood_group       neighbourhood  latitude  \\\n",
              "48890        Sabrina            Brooklyn  Bedford-Stuyvesant  40.67853   \n",
              "48891        Marisol            Brooklyn            Bushwick  40.70184   \n",
              "48892  Ilgar & Aysel           Manhattan              Harlem  40.81475   \n",
              "48893            Taz           Manhattan      Hell's Kitchen  40.75751   \n",
              "48894     Christophe           Manhattan      Hell's Kitchen  40.76404   \n",
              "\n",
              "       longitude        room_type  price  minimum_nights  number_of_reviews  \\\n",
              "48890  -73.94995     Private room     70               2                  0   \n",
              "48891  -73.93317     Private room     40               4                  0   \n",
              "48892  -73.94867  Entire home/apt    115              10                  0   \n",
              "48893  -73.99112      Shared room     55               1                  0   \n",
              "48894  -73.98933     Private room     90               7                  0   \n",
              "\n",
              "      last_review  reviews_per_month  calculated_host_listings_count  \\\n",
              "48890         NaN                NaN                               2   \n",
              "48891         NaN                NaN                               2   \n",
              "48892         NaN                NaN                               1   \n",
              "48893         NaN                NaN                               6   \n",
              "48894         NaN                NaN                               1   \n",
              "\n",
              "       availability_365  \n",
              "48890                 9  \n",
              "48891                36  \n",
              "48892                27  \n",
              "48893                 2  \n",
              "48894                23  "
            ],
            "text/html": [
              "\n",
              "\n",
              "  <div id=\"df-8cf6fccc-6564-477b-b480-490a6bcad3e7\">\n",
              "    <div class=\"colab-df-container\">\n",
              "      <div>\n",
              "<style scoped>\n",
              "    .dataframe tbody tr th:only-of-type {\n",
              "        vertical-align: middle;\n",
              "    }\n",
              "\n",
              "    .dataframe tbody tr th {\n",
              "        vertical-align: top;\n",
              "    }\n",
              "\n",
              "    .dataframe thead th {\n",
              "        text-align: right;\n",
              "    }\n",
              "</style>\n",
              "<table border=\"1\" class=\"dataframe\">\n",
              "  <thead>\n",
              "    <tr style=\"text-align: right;\">\n",
              "      <th></th>\n",
              "      <th>id</th>\n",
              "      <th>name</th>\n",
              "      <th>host_id</th>\n",
              "      <th>host_name</th>\n",
              "      <th>neighbourhood_group</th>\n",
              "      <th>neighbourhood</th>\n",
              "      <th>latitude</th>\n",
              "      <th>longitude</th>\n",
              "      <th>room_type</th>\n",
              "      <th>price</th>\n",
              "      <th>minimum_nights</th>\n",
              "      <th>number_of_reviews</th>\n",
              "      <th>last_review</th>\n",
              "      <th>reviews_per_month</th>\n",
              "      <th>calculated_host_listings_count</th>\n",
              "      <th>availability_365</th>\n",
              "    </tr>\n",
              "  </thead>\n",
              "  <tbody>\n",
              "    <tr>\n",
              "      <th>48890</th>\n",
              "      <td>36484665</td>\n",
              "      <td>Charming one bedroom - newly renovated rowhouse</td>\n",
              "      <td>8232441</td>\n",
              "      <td>Sabrina</td>\n",
              "      <td>Brooklyn</td>\n",
              "      <td>Bedford-Stuyvesant</td>\n",
              "      <td>40.67853</td>\n",
              "      <td>-73.94995</td>\n",
              "      <td>Private room</td>\n",
              "      <td>70</td>\n",
              "      <td>2</td>\n",
              "      <td>0</td>\n",
              "      <td>NaN</td>\n",
              "      <td>NaN</td>\n",
              "      <td>2</td>\n",
              "      <td>9</td>\n",
              "    </tr>\n",
              "    <tr>\n",
              "      <th>48891</th>\n",
              "      <td>36485057</td>\n",
              "      <td>Affordable room in Bushwick/East Williamsburg</td>\n",
              "      <td>6570630</td>\n",
              "      <td>Marisol</td>\n",
              "      <td>Brooklyn</td>\n",
              "      <td>Bushwick</td>\n",
              "      <td>40.70184</td>\n",
              "      <td>-73.93317</td>\n",
              "      <td>Private room</td>\n",
              "      <td>40</td>\n",
              "      <td>4</td>\n",
              "      <td>0</td>\n",
              "      <td>NaN</td>\n",
              "      <td>NaN</td>\n",
              "      <td>2</td>\n",
              "      <td>36</td>\n",
              "    </tr>\n",
              "    <tr>\n",
              "      <th>48892</th>\n",
              "      <td>36485431</td>\n",
              "      <td>Sunny Studio at Historical Neighborhood</td>\n",
              "      <td>23492952</td>\n",
              "      <td>Ilgar &amp; Aysel</td>\n",
              "      <td>Manhattan</td>\n",
              "      <td>Harlem</td>\n",
              "      <td>40.81475</td>\n",
              "      <td>-73.94867</td>\n",
              "      <td>Entire home/apt</td>\n",
              "      <td>115</td>\n",
              "      <td>10</td>\n",
              "      <td>0</td>\n",
              "      <td>NaN</td>\n",
              "      <td>NaN</td>\n",
              "      <td>1</td>\n",
              "      <td>27</td>\n",
              "    </tr>\n",
              "    <tr>\n",
              "      <th>48893</th>\n",
              "      <td>36485609</td>\n",
              "      <td>43rd St. Time Square-cozy single bed</td>\n",
              "      <td>30985759</td>\n",
              "      <td>Taz</td>\n",
              "      <td>Manhattan</td>\n",
              "      <td>Hell's Kitchen</td>\n",
              "      <td>40.75751</td>\n",
              "      <td>-73.99112</td>\n",
              "      <td>Shared room</td>\n",
              "      <td>55</td>\n",
              "      <td>1</td>\n",
              "      <td>0</td>\n",
              "      <td>NaN</td>\n",
              "      <td>NaN</td>\n",
              "      <td>6</td>\n",
              "      <td>2</td>\n",
              "    </tr>\n",
              "    <tr>\n",
              "      <th>48894</th>\n",
              "      <td>36487245</td>\n",
              "      <td>Trendy duplex in the very heart of Hell's Kitchen</td>\n",
              "      <td>68119814</td>\n",
              "      <td>Christophe</td>\n",
              "      <td>Manhattan</td>\n",
              "      <td>Hell's Kitchen</td>\n",
              "      <td>40.76404</td>\n",
              "      <td>-73.98933</td>\n",
              "      <td>Private room</td>\n",
              "      <td>90</td>\n",
              "      <td>7</td>\n",
              "      <td>0</td>\n",
              "      <td>NaN</td>\n",
              "      <td>NaN</td>\n",
              "      <td>1</td>\n",
              "      <td>23</td>\n",
              "    </tr>\n",
              "  </tbody>\n",
              "</table>\n",
              "</div>\n",
              "      <button class=\"colab-df-convert\" onclick=\"convertToInteractive('df-8cf6fccc-6564-477b-b480-490a6bcad3e7')\"\n",
              "              title=\"Convert this dataframe to an interactive table.\"\n",
              "              style=\"display:none;\">\n",
              "\n",
              "  <svg xmlns=\"http://www.w3.org/2000/svg\" height=\"24px\"viewBox=\"0 0 24 24\"\n",
              "       width=\"24px\">\n",
              "    <path d=\"M0 0h24v24H0V0z\" fill=\"none\"/>\n",
              "    <path d=\"M18.56 5.44l.94 2.06.94-2.06 2.06-.94-2.06-.94-.94-2.06-.94 2.06-2.06.94zm-11 1L8.5 8.5l.94-2.06 2.06-.94-2.06-.94L8.5 2.5l-.94 2.06-2.06.94zm10 10l.94 2.06.94-2.06 2.06-.94-2.06-.94-.94-2.06-.94 2.06-2.06.94z\"/><path d=\"M17.41 7.96l-1.37-1.37c-.4-.4-.92-.59-1.43-.59-.52 0-1.04.2-1.43.59L10.3 9.45l-7.72 7.72c-.78.78-.78 2.05 0 2.83L4 21.41c.39.39.9.59 1.41.59.51 0 1.02-.2 1.41-.59l7.78-7.78 2.81-2.81c.8-.78.8-2.07 0-2.86zM5.41 20L4 18.59l7.72-7.72 1.47 1.35L5.41 20z\"/>\n",
              "  </svg>\n",
              "      </button>\n",
              "\n",
              "\n",
              "\n",
              "    <div id=\"df-54048fff-3856-49ea-ad06-4833e42b959c\">\n",
              "      <button class=\"colab-df-quickchart\" onclick=\"quickchart('df-54048fff-3856-49ea-ad06-4833e42b959c')\"\n",
              "              title=\"Suggest charts.\"\n",
              "              style=\"display:none;\">\n",
              "\n",
              "<svg xmlns=\"http://www.w3.org/2000/svg\" height=\"24px\"viewBox=\"0 0 24 24\"\n",
              "     width=\"24px\">\n",
              "    <g>\n",
              "        <path d=\"M19 3H5c-1.1 0-2 .9-2 2v14c0 1.1.9 2 2 2h14c1.1 0 2-.9 2-2V5c0-1.1-.9-2-2-2zM9 17H7v-7h2v7zm4 0h-2V7h2v10zm4 0h-2v-4h2v4z\"/>\n",
              "    </g>\n",
              "</svg>\n",
              "      </button>\n",
              "    </div>\n",
              "\n",
              "<style>\n",
              "  .colab-df-quickchart {\n",
              "    background-color: #E8F0FE;\n",
              "    border: none;\n",
              "    border-radius: 50%;\n",
              "    cursor: pointer;\n",
              "    display: none;\n",
              "    fill: #1967D2;\n",
              "    height: 32px;\n",
              "    padding: 0 0 0 0;\n",
              "    width: 32px;\n",
              "  }\n",
              "\n",
              "  .colab-df-quickchart:hover {\n",
              "    background-color: #E2EBFA;\n",
              "    box-shadow: 0px 1px 2px rgba(60, 64, 67, 0.3), 0px 1px 3px 1px rgba(60, 64, 67, 0.15);\n",
              "    fill: #174EA6;\n",
              "  }\n",
              "\n",
              "  [theme=dark] .colab-df-quickchart {\n",
              "    background-color: #3B4455;\n",
              "    fill: #D2E3FC;\n",
              "  }\n",
              "\n",
              "  [theme=dark] .colab-df-quickchart:hover {\n",
              "    background-color: #434B5C;\n",
              "    box-shadow: 0px 1px 3px 1px rgba(0, 0, 0, 0.15);\n",
              "    filter: drop-shadow(0px 1px 2px rgba(0, 0, 0, 0.3));\n",
              "    fill: #FFFFFF;\n",
              "  }\n",
              "</style>\n",
              "\n",
              "    <script>\n",
              "      async function quickchart(key) {\n",
              "        const containerElement = document.querySelector('#' + key);\n",
              "        const charts = await google.colab.kernel.invokeFunction(\n",
              "            'suggestCharts', [key], {});\n",
              "      }\n",
              "    </script>\n",
              "\n",
              "      <script>\n",
              "\n",
              "function displayQuickchartButton(domScope) {\n",
              "  let quickchartButtonEl =\n",
              "    domScope.querySelector('#df-54048fff-3856-49ea-ad06-4833e42b959c button.colab-df-quickchart');\n",
              "  quickchartButtonEl.style.display =\n",
              "    google.colab.kernel.accessAllowed ? 'block' : 'none';\n",
              "}\n",
              "\n",
              "        displayQuickchartButton(document);\n",
              "      </script>\n",
              "      <style>\n",
              "    .colab-df-container {\n",
              "      display:flex;\n",
              "      flex-wrap:wrap;\n",
              "      gap: 12px;\n",
              "    }\n",
              "\n",
              "    .colab-df-convert {\n",
              "      background-color: #E8F0FE;\n",
              "      border: none;\n",
              "      border-radius: 50%;\n",
              "      cursor: pointer;\n",
              "      display: none;\n",
              "      fill: #1967D2;\n",
              "      height: 32px;\n",
              "      padding: 0 0 0 0;\n",
              "      width: 32px;\n",
              "    }\n",
              "\n",
              "    .colab-df-convert:hover {\n",
              "      background-color: #E2EBFA;\n",
              "      box-shadow: 0px 1px 2px rgba(60, 64, 67, 0.3), 0px 1px 3px 1px rgba(60, 64, 67, 0.15);\n",
              "      fill: #174EA6;\n",
              "    }\n",
              "\n",
              "    [theme=dark] .colab-df-convert {\n",
              "      background-color: #3B4455;\n",
              "      fill: #D2E3FC;\n",
              "    }\n",
              "\n",
              "    [theme=dark] .colab-df-convert:hover {\n",
              "      background-color: #434B5C;\n",
              "      box-shadow: 0px 1px 3px 1px rgba(0, 0, 0, 0.15);\n",
              "      filter: drop-shadow(0px 1px 2px rgba(0, 0, 0, 0.3));\n",
              "      fill: #FFFFFF;\n",
              "    }\n",
              "  </style>\n",
              "\n",
              "      <script>\n",
              "        const buttonEl =\n",
              "          document.querySelector('#df-8cf6fccc-6564-477b-b480-490a6bcad3e7 button.colab-df-convert');\n",
              "        buttonEl.style.display =\n",
              "          google.colab.kernel.accessAllowed ? 'block' : 'none';\n",
              "\n",
              "        async function convertToInteractive(key) {\n",
              "          const element = document.querySelector('#df-8cf6fccc-6564-477b-b480-490a6bcad3e7');\n",
              "          const dataTable =\n",
              "            await google.colab.kernel.invokeFunction('convertToInteractive',\n",
              "                                                     [key], {});\n",
              "          if (!dataTable) return;\n",
              "\n",
              "          const docLinkHtml = 'Like what you see? Visit the ' +\n",
              "            '<a target=\"_blank\" href=https://colab.research.google.com/notebooks/data_table.ipynb>data table notebook</a>'\n",
              "            + ' to learn more about interactive tables.';\n",
              "          element.innerHTML = '';\n",
              "          dataTable['output_type'] = 'display_data';\n",
              "          await google.colab.output.renderOutput(dataTable, element);\n",
              "          const docLink = document.createElement('div');\n",
              "          docLink.innerHTML = docLinkHtml;\n",
              "          element.appendChild(docLink);\n",
              "        }\n",
              "      </script>\n",
              "    </div>\n",
              "  </div>\n"
            ]
          },
          "metadata": {},
          "execution_count": 5
        }
      ]
    },
    {
      "cell_type": "markdown",
      "source": [
        "### Dataset Rows & Columns count"
      ],
      "metadata": {
        "id": "7hBIi_osiCS2"
      }
    },
    {
      "cell_type": "code",
      "source": [
        "# Dataset Rows & Columns count\n",
        "print(f\"Number of rows :-  {airbnb_df.shape[0]}\")\n",
        "print(f\"Number of columns :- {airbnb_df.shape[1]}\")"
      ],
      "metadata": {
        "id": "Kllu7SJgmLij",
        "colab": {
          "base_uri": "https://localhost:8080/"
        },
        "outputId": "75753d90-15ab-4efb-a896-4a1a21beb22d"
      },
      "execution_count": 6,
      "outputs": [
        {
          "output_type": "stream",
          "name": "stdout",
          "text": [
            "Number of rows :-  48895\n",
            "Number of columns :- 16\n"
          ]
        }
      ]
    },
    {
      "cell_type": "markdown",
      "source": [
        "### Dataset Information"
      ],
      "metadata": {
        "id": "JlHwYmJAmNHm"
      }
    },
    {
      "cell_type": "code",
      "source": [
        "# Dataset Info\n",
        "airbnb_df.info()"
      ],
      "metadata": {
        "id": "e9hRXRi6meOf",
        "colab": {
          "base_uri": "https://localhost:8080/"
        },
        "outputId": "cd23fc3c-fc34-4524-d818-4d3d7bbfd5ef"
      },
      "execution_count": 7,
      "outputs": [
        {
          "output_type": "stream",
          "name": "stdout",
          "text": [
            "<class 'pandas.core.frame.DataFrame'>\n",
            "RangeIndex: 48895 entries, 0 to 48894\n",
            "Data columns (total 16 columns):\n",
            " #   Column                          Non-Null Count  Dtype  \n",
            "---  ------                          --------------  -----  \n",
            " 0   id                              48895 non-null  int64  \n",
            " 1   name                            48879 non-null  object \n",
            " 2   host_id                         48895 non-null  int64  \n",
            " 3   host_name                       48874 non-null  object \n",
            " 4   neighbourhood_group             48895 non-null  object \n",
            " 5   neighbourhood                   48895 non-null  object \n",
            " 6   latitude                        48895 non-null  float64\n",
            " 7   longitude                       48895 non-null  float64\n",
            " 8   room_type                       48895 non-null  object \n",
            " 9   price                           48895 non-null  int64  \n",
            " 10  minimum_nights                  48895 non-null  int64  \n",
            " 11  number_of_reviews               48895 non-null  int64  \n",
            " 12  last_review                     38843 non-null  object \n",
            " 13  reviews_per_month               38843 non-null  float64\n",
            " 14  calculated_host_listings_count  48895 non-null  int64  \n",
            " 15  availability_365                48895 non-null  int64  \n",
            "dtypes: float64(3), int64(7), object(6)\n",
            "memory usage: 6.0+ MB\n"
          ]
        }
      ]
    },
    {
      "cell_type": "markdown",
      "source": [
        "#### Duplicate Values"
      ],
      "metadata": {
        "id": "35m5QtbWiB9F"
      }
    },
    {
      "cell_type": "code",
      "source": [
        "# Dataset Duplicate Value Count\n",
        "\n",
        "print(f\"The duplicated value count is: {airbnb_df.duplicated().sum()}\")"
      ],
      "metadata": {
        "id": "1sLdpKYkmox0",
        "colab": {
          "base_uri": "https://localhost:8080/"
        },
        "outputId": "faecabb5-3b89-4e40-b8d5-f9cad7344b62"
      },
      "execution_count": 8,
      "outputs": [
        {
          "output_type": "stream",
          "name": "stdout",
          "text": [
            "The duplicated value count is: 0\n"
          ]
        }
      ]
    },
    {
      "cell_type": "markdown",
      "source": [
        "#### Missing Values/Null Values"
      ],
      "metadata": {
        "id": "PoPl-ycgm1ru"
      }
    },
    {
      "cell_type": "code",
      "source": [
        "# Missing Values/Null Values Count\n",
        "print(airbnb_df.isna().sum().sort_values(ascending=False))"
      ],
      "metadata": {
        "id": "GgHWkxvamxVg",
        "colab": {
          "base_uri": "https://localhost:8080/"
        },
        "outputId": "1b2542de-d614-45e5-c35e-e0d6a4d9f66b"
      },
      "execution_count": 9,
      "outputs": [
        {
          "output_type": "stream",
          "name": "stdout",
          "text": [
            "last_review                       10052\n",
            "reviews_per_month                 10052\n",
            "host_name                            21\n",
            "name                                 16\n",
            "id                                    0\n",
            "host_id                               0\n",
            "neighbourhood_group                   0\n",
            "neighbourhood                         0\n",
            "latitude                              0\n",
            "longitude                             0\n",
            "room_type                             0\n",
            "price                                 0\n",
            "minimum_nights                        0\n",
            "number_of_reviews                     0\n",
            "calculated_host_listings_count        0\n",
            "availability_365                      0\n",
            "dtype: int64\n"
          ]
        }
      ]
    },
    {
      "cell_type": "code",
      "source": [
        "# Visualizing the missing values\n",
        "\n",
        "\n",
        "sns.heatmap(airbnb_df.isnull(),cbar=True,yticklabels=False,cmap='inferno')\n",
        "plt.xlabel(\"Name Of Columns\")\n",
        "plt.title(\"Places of missing values in column\")"
      ],
      "metadata": {
        "id": "3q5wnI3om9sJ",
        "colab": {
          "base_uri": "https://localhost:8080/",
          "height": 686
        },
        "outputId": "e4ef7a99-f59b-40c7-ca19-67581a876290"
      },
      "execution_count": 10,
      "outputs": [
        {
          "output_type": "execute_result",
          "data": {
            "text/plain": [
              "Text(0.5, 1.0, 'Places of missing values in column')"
            ]
          },
          "metadata": {},
          "execution_count": 10
        },
        {
          "output_type": "display_data",
          "data": {
            "text/plain": [
              "<Figure size 640x480 with 2 Axes>"
            ],
            "image/png": "[encoded data removed]"
          },
          "metadata": {}
        }
      ]
    },
    {
      "cell_type": "markdown",
      "source": [
        "### What did you know about your dataset?"
      ],
      "metadata": {
        "id": "H0kj-8xxnORC"
      }
    },
    {
      "cell_type": "markdown",
      "source": [
        "1. The dataset contains 16 columns and 48,895 records related to Airbnb booking analysis.\n",
        "2.Among the 16 columns, 10 are numerical, and 6 are categorical or object type columns.\n",
        "3.There are null values in 4 columns: name, host name, last review, and reviews per month.\n",
        "4.No duplicated values are present in the dataset.\n",
        "5.The prices column has some anomalies that need to be fixed. Also, the last_review column is in string format and needs conversion to its original date format.\n",
        "6.The minimum_nights column has some exceptionally high values (anomalies) that require attention and handling."
      ],
      "metadata": {
        "id": "gfoNAAC-nUe_"
      }
    },
    {
      "cell_type": "markdown",
      "source": [
        "## ***2. Understanding Your Variables***"
      ],
      "metadata": {
        "id": "nA9Y7ga8ng1Z"
      }
    },
    {
      "cell_type": "code",
      "source": [
        "# Dataset Columns\n",
        "airbnb_df.columns"
      ],
      "metadata": {
        "id": "j7xfkqrt5Ag5",
        "colab": {
          "base_uri": "https://localhost:8080/"
        },
        "outputId": "e82b55ee-bf7b-40f1-c041-aa3e55792b86"
      },
      "execution_count": 11,
      "outputs": [
        {
          "output_type": "execute_result",
          "data": {
            "text/plain": [
              "Index(['id', 'name', 'host_id', 'host_name', 'neighbourhood_group',\n",
              "       'neighbourhood', 'latitude', 'longitude', 'room_type', 'price',\n",
              "       'minimum_nights', 'number_of_reviews', 'last_review',\n",
              "       'reviews_per_month', 'calculated_host_listings_count',\n",
              "       'availability_365'],\n",
              "      dtype='object')"
            ]
          },
          "metadata": {},
          "execution_count": 11
        }
      ]
    },
    {
      "cell_type": "code",
      "source": [
        "# Dataset Describe\n",
        "airbnb_df.describe(include='all')"
      ],
      "metadata": {
        "id": "DnOaZdaE5Q5t",
        "colab": {
          "base_uri": "https://localhost:8080/",
          "height": 476
        },
        "outputId": "5e26bf3c-d8c4-4cc7-aeb1-e39f8b2bd6ec"
      },
      "execution_count": 12,
      "outputs": [
        {
          "output_type": "execute_result",
          "data": {
            "text/plain": [
              "                  id            name       host_id host_name  \\\n",
              "count   4.889500e+04           48879  4.889500e+04     48874   \n",
              "unique           NaN           47905           NaN     11452   \n",
              "top              NaN  Hillside Hotel           NaN   Michael   \n",
              "freq             NaN              18           NaN       417   \n",
              "mean    1.901714e+07             NaN  6.762001e+07       NaN   \n",
              "std     1.098311e+07             NaN  7.861097e+07       NaN   \n",
              "min     2.539000e+03             NaN  2.438000e+03       NaN   \n",
              "25%     9.471945e+06             NaN  7.822033e+06       NaN   \n",
              "50%     1.967728e+07             NaN  3.079382e+07       NaN   \n",
              "75%     2.915218e+07             NaN  1.074344e+08       NaN   \n",
              "max     3.648724e+07             NaN  2.743213e+08       NaN   \n",
              "\n",
              "       neighbourhood_group neighbourhood      latitude     longitude  \\\n",
              "count                48895         48895  48895.000000  48895.000000   \n",
              "unique                   5           221           NaN           NaN   \n",
              "top              Manhattan  Williamsburg           NaN           NaN   \n",
              "freq                 21661          3920           NaN           NaN   \n",
              "mean                   NaN           NaN     40.728949    -73.952170   \n",
              "std                    NaN           NaN      0.054530      0.046157   \n",
              "min                    NaN           NaN     40.499790    -74.244420   \n",
              "25%                    NaN           NaN     40.690100    -73.983070   \n",
              "50%                    NaN           NaN     40.723070    -73.955680   \n",
              "75%                    NaN           NaN     40.763115    -73.936275   \n",
              "max                    NaN           NaN     40.913060    -73.712990   \n",
              "\n",
              "              room_type         price  minimum_nights  number_of_reviews  \\\n",
              "count             48895  48895.000000    48895.000000       48895.000000   \n",
              "unique                3           NaN             NaN                NaN   \n",
              "top     Entire home/apt           NaN             NaN                NaN   \n",
              "freq              25409           NaN             NaN                NaN   \n",
              "mean                NaN    152.720687        7.029962          23.274466   \n",
              "std                 NaN    240.154170       20.510550          44.550582   \n",
              "min                 NaN      0.000000        1.000000           0.000000   \n",
              "25%                 NaN     69.000000        1.000000           1.000000   \n",
              "50%                 NaN    106.000000        3.000000           5.000000   \n",
              "75%                 NaN    175.000000        5.000000          24.000000   \n",
              "max                 NaN  10000.000000     1250.000000         629.000000   \n",
              "\n",
              "       last_review  reviews_per_month  calculated_host_listings_count  \\\n",
              "count        38843       38843.000000                    48895.000000   \n",
              "unique        1764                NaN                             NaN   \n",
              "top     2019-06-23                NaN                             NaN   \n",
              "freq          1413                NaN                             NaN   \n",
              "mean           NaN           1.373221                        7.143982   \n",
              "std            NaN           1.680442                       32.952519   \n",
              "min            NaN           0.010000                        1.000000   \n",
              "25%            NaN           0.190000                        1.000000   \n",
              "50%            NaN           0.720000                        1.000000   \n",
              "75%            NaN           2.020000                        2.000000   \n",
              "max            NaN          58.500000                      327.000000   \n",
              "\n",
              "        availability_365  \n",
              "count       48895.000000  \n",
              "unique               NaN  \n",
              "top                  NaN  \n",
              "freq                 NaN  \n",
              "mean          112.781327  \n",
              "std           131.622289  \n",
              "min             0.000000  \n",
              "25%             0.000000  \n",
              "50%            45.000000  \n",
              "75%           227.000000  \n",
              "max           365.000000  "
            ],
            "text/html": [
              "\n",
              "\n",
              "  <div id=\"df-083a57db-5d42-46ba-87d3-5e4aa9b9812b\">\n",
              "    <div class=\"colab-df-container\">\n",
              "      <div>\n",
              "<style scoped>\n",
              "    .dataframe tbody tr th:only-of-type {\n",
              "        vertical-align: middle;\n",
              "    }\n",
              "\n",
              "    .dataframe tbody tr th {\n",
              "        vertical-align: top;\n",
              "    }\n",
              "\n",
              "    .dataframe thead th {\n",
              "        text-align: right;\n",
              "    }\n",
              "</style>\n",
              "<table border=\"1\" class=\"dataframe\">\n",
              "  <thead>\n",
              "    <tr style=\"text-align: right;\">\n",
              "      <th></th>\n",
              "      <th>id</th>\n",
              "      <th>name</th>\n",
              "      <th>host_id</th>\n",
              "      <th>host_name</th>\n",
              "      <th>neighbourhood_group</th>\n",
              "      <th>neighbourhood</th>\n",
              "      <th>latitude</th>\n",
              "      <th>longitude</th>\n",
              "      <th>room_type</th>\n",
              "      <th>price</th>\n",
              "      <th>minimum_nights</th>\n",
              "      <th>number_of_reviews</th>\n",
              "      <th>last_review</th>\n",
              "      <th>reviews_per_month</th>\n",
              "      <th>calculated_host_listings_count</th>\n",
              "      <th>availability_365</th>\n",
              "    </tr>\n",
              "  </thead>\n",
              "  <tbody>\n",
              "    <tr>\n",
              "      <th>count</th>\n",
              "      <td>4.889500e+04</td>\n",
              "      <td>48879</td>\n",
              "      <td>4.889500e+04</td>\n",
              "      <td>48874</td>\n",
              "      <td>48895</td>\n",
              "      <td>48895</td>\n",
              "      <td>48895.000000</td>\n",
              "      <td>48895.000000</td>\n",
              "      <td>48895</td>\n",
              "      <td>48895.000000</td>\n",
              "      <td>48895.000000</td>\n",
              "      <td>48895.000000</td>\n",
              "      <td>38843</td>\n",
              "      <td>38843.000000</td>\n",
              "      <td>48895.000000</td>\n",
              "      <td>48895.000000</td>\n",
              "    </tr>\n",
              "    <tr>\n",
              "      <th>unique</th>\n",
              "      <td>NaN</td>\n",
              "      <td>47905</td>\n",
              "      <td>NaN</td>\n",
              "      <td>11452</td>\n",
              "      <td>5</td>\n",
              "      <td>221</td>\n",
              "      <td>NaN</td>\n",
              "      <td>NaN</td>\n",
              "      <td>3</td>\n",
              "      <td>NaN</td>\n",
              "      <td>NaN</td>\n",
              "      <td>NaN</td>\n",
              "      <td>1764</td>\n",
              "      <td>NaN</td>\n",
              "      <td>NaN</td>\n",
              "      <td>NaN</td>\n",
              "    </tr>\n",
              "    <tr>\n",
              "      <th>top</th>\n",
              "      <td>NaN</td>\n",
              "      <td>Hillside Hotel</td>\n",
              "      <td>NaN</td>\n",
              "      <td>Michael</td>\n",
              "      <td>Manhattan</td>\n",
              "      <td>Williamsburg</td>\n",
              "      <td>NaN</td>\n",
              "      <td>NaN</td>\n",
              "      <td>Entire home/apt</td>\n",
              "      <td>NaN</td>\n",
              "      <td>NaN</td>\n",
              "      <td>NaN</td>\n",
              "      <td>2019-06-23</td>\n",
              "      <td>NaN</td>\n",
              "      <td>NaN</td>\n",
              "      <td>NaN</td>\n",
              "    </tr>\n",
              "    <tr>\n",
              "      <th>freq</th>\n",
              "      <td>NaN</td>\n",
              "      <td>18</td>\n",
              "      <td>NaN</td>\n",
              "      <td>417</td>\n",
              "      <td>21661</td>\n",
              "      <td>3920</td>\n",
              "      <td>NaN</td>\n",
              "      <td>NaN</td>\n",
              "      <td>25409</td>\n",
              "      <td>NaN</td>\n",
              "      <td>NaN</td>\n",
              "      <td>NaN</td>\n",
              "      <td>1413</td>\n",
              "      <td>NaN</td>\n",
              "      <td>NaN</td>\n",
              "      <td>NaN</td>\n",
              "    </tr>\n",
              "    <tr>\n",
              "      <th>mean</th>\n",
              "      <td>1.901714e+07</td>\n",
              "      <td>NaN</td>\n",
              "      <td>6.762001e+07</td>\n",
              "      <td>NaN</td>\n",
              "      <td>NaN</td>\n",
              "      <td>NaN</td>\n",
              "      <td>40.728949</td>\n",
              "      <td>-73.952170</td>\n",
              "      <td>NaN</td>\n",
              "      <td>152.720687</td>\n",
              "      <td>7.029962</td>\n",
              "      <td>23.274466</td>\n",
              "      <td>NaN</td>\n",
              "      <td>1.373221</td>\n",
              "      <td>7.143982</td>\n",
              "      <td>112.781327</td>\n",
              "    </tr>\n",
              "    <tr>\n",
              "      <th>std</th>\n",
              "      <td>1.098311e+07</td>\n",
              "      <td>NaN</td>\n",
              "      <td>7.861097e+07</td>\n",
              "      <td>NaN</td>\n",
              "      <td>NaN</td>\n",
              "      <td>NaN</td>\n",
              "      <td>0.054530</td>\n",
              "      <td>0.046157</td>\n",
              "      <td>NaN</td>\n",
              "      <td>240.154170</td>\n",
              "      <td>20.510550</td>\n",
              "      <td>44.550582</td>\n",
              "      <td>NaN</td>\n",
              "      <td>1.680442</td>\n",
              "      <td>32.952519</td>\n",
              "      <td>131.622289</td>\n",
              "    </tr>\n",
              "    <tr>\n",
              "      <th>min</th>\n",
              "      <td>2.539000e+03</td>\n",
              "      <td>NaN</td>\n",
              "      <td>2.438000e+03</td>\n",
              "      <td>NaN</td>\n",
              "      <td>NaN</td>\n",
              "      <td>NaN</td>\n",
              "      <td>40.499790</td>\n",
              "      <td>-74.244420</td>\n",
              "      <td>NaN</td>\n",
              "      <td>0.000000</td>\n",
              "      <td>1.000000</td>\n",
              "      <td>0.000000</td>\n",
              "      <td>NaN</td>\n",
              "      <td>0.010000</td>\n",
              "      <td>1.000000</td>\n",
              "      <td>0.000000</td>\n",
              "    </tr>\n",
              "    <tr>\n",
              "      <th>25%</th>\n",
              "      <td>9.471945e+06</td>\n",
              "      <td>NaN</td>\n",
              "      <td>7.822033e+06</td>\n",
              "      <td>NaN</td>\n",
              "      <td>NaN</td>\n",
              "      <td>NaN</td>\n",
              "      <td>40.690100</td>\n",
              "      <td>-73.983070</td>\n",
              "      <td>NaN</td>\n",
              "      <td>69.000000</td>\n",
              "      <td>1.000000</td>\n",
              "      <td>1.000000</td>\n",
              "      <td>NaN</td>\n",
              "      <td>0.190000</td>\n",
              "      <td>1.000000</td>\n",
              "      <td>0.000000</td>\n",
              "    </tr>\n",
              "    <tr>\n",
              "      <th>50%</th>\n",
              "      <td>1.967728e+07</td>\n",
              "      <td>NaN</td>\n",
              "      <td>3.079382e+07</td>\n",
              "      <td>NaN</td>\n",
              "      <td>NaN</td>\n",
              "      <td>NaN</td>\n",
              "      <td>40.723070</td>\n",
              "      <td>-73.955680</td>\n",
              "      <td>NaN</td>\n",
              "      <td>106.000000</td>\n",
              "      <td>3.000000</td>\n",
              "      <td>5.000000</td>\n",
              "      <td>NaN</td>\n",
              "      <td>0.720000</td>\n",
              "      <td>1.000000</td>\n",
              "      <td>45.000000</td>\n",
              "    </tr>\n",
              "    <tr>\n",
              "      <th>75%</th>\n",
              "      <td>2.915218e+07</td>\n",
              "      <td>NaN</td>\n",
              "      <td>1.074344e+08</td>\n",
              "      <td>NaN</td>\n",
              "      <td>NaN</td>\n",
              "      <td>NaN</td>\n",
              "      <td>40.763115</td>\n",
              "      <td>-73.936275</td>\n",
              "      <td>NaN</td>\n",
              "      <td>175.000000</td>\n",
              "      <td>5.000000</td>\n",
              "      <td>24.000000</td>\n",
              "      <td>NaN</td>\n",
              "      <td>2.020000</td>\n",
              "      <td>2.000000</td>\n",
              "      <td>227.000000</td>\n",
              "    </tr>\n",
              "    <tr>\n",
              "      <th>max</th>\n",
              "      <td>3.648724e+07</td>\n",
              "      <td>NaN</td>\n",
              "      <td>2.743213e+08</td>\n",
              "      <td>NaN</td>\n",
              "      <td>NaN</td>\n",
              "      <td>NaN</td>\n",
              "      <td>40.913060</td>\n",
              "      <td>-73.712990</td>\n",
              "      <td>NaN</td>\n",
              "      <td>10000.000000</td>\n",
              "      <td>1250.000000</td>\n",
              "      <td>629.000000</td>\n",
              "      <td>NaN</td>\n",
              "      <td>58.500000</td>\n",
              "      <td>327.000000</td>\n",
              "      <td>365.000000</td>\n",
              "    </tr>\n",
              "  </tbody>\n",
              "</table>\n",
              "</div>\n",
              "      <button class=\"colab-df-convert\" onclick=\"convertToInteractive('df-083a57db-5d42-46ba-87d3-5e4aa9b9812b')\"\n",
              "              title=\"Convert this dataframe to an interactive table.\"\n",
              "              style=\"display:none;\">\n",
              "\n",
              "  <svg xmlns=\"http://www.w3.org/2000/svg\" height=\"24px\"viewBox=\"0 0 24 24\"\n",
              "       width=\"24px\">\n",
              "    <path d=\"M0 0h24v24H0V0z\" fill=\"none\"/>\n",
              "    <path d=\"M18.56 5.44l.94 2.06.94-2.06 2.06-.94-2.06-.94-.94-2.06-.94 2.06-2.06.94zm-11 1L8.5 8.5l.94-2.06 2.06-.94-2.06-.94L8.5 2.5l-.94 2.06-2.06.94zm10 10l.94 2.06.94-2.06 2.06-.94-2.06-.94-.94-2.06-.94 2.06-2.06.94z\"/><path d=\"M17.41 7.96l-1.37-1.37c-.4-.4-.92-.59-1.43-.59-.52 0-1.04.2-1.43.59L10.3 9.45l-7.72 7.72c-.78.78-.78 2.05 0 2.83L4 21.41c.39.39.9.59 1.41.59.51 0 1.02-.2 1.41-.59l7.78-7.78 2.81-2.81c.8-.78.8-2.07 0-2.86zM5.41 20L4 18.59l7.72-7.72 1.47 1.35L5.41 20z\"/>\n",
              "  </svg>\n",
              "      </button>\n",
              "\n",
              "\n",
              "\n",
              "    <div id=\"df-bd7cc0c5-8a20-422a-84f6-df312bc5ece2\">\n",
              "      <button class=\"colab-df-quickchart\" onclick=\"quickchart('df-bd7cc0c5-8a20-422a-84f6-df312bc5ece2')\"\n",
              "              title=\"Suggest charts.\"\n",
              "              style=\"display:none;\">\n",
              "\n",
              "<svg xmlns=\"http://www.w3.org/2000/svg\" height=\"24px\"viewBox=\"0 0 24 24\"\n",
              "     width=\"24px\">\n",
              "    <g>\n",
              "        <path d=\"M19 3H5c-1.1 0-2 .9-2 2v14c0 1.1.9 2 2 2h14c1.1 0 2-.9 2-2V5c0-1.1-.9-2-2-2zM9 17H7v-7h2v7zm4 0h-2V7h2v10zm4 0h-2v-4h2v4z\"/>\n",
              "    </g>\n",
              "</svg>\n",
              "      </button>\n",
              "    </div>\n",
              "\n",
              "<style>\n",
              "  .colab-df-quickchart {\n",
              "    background-color: #E8F0FE;\n",
              "    border: none;\n",
              "    border-radius: 50%;\n",
              "    cursor: pointer;\n",
              "    display: none;\n",
              "    fill: #1967D2;\n",
              "    height: 32px;\n",
              "    padding: 0 0 0 0;\n",
              "    width: 32px;\n",
              "  }\n",
              "\n",
              "  .colab-df-quickchart:hover {\n",
              "    background-color: #E2EBFA;\n",
              "    box-shadow: 0px 1px 2px rgba(60, 64, 67, 0.3), 0px 1px 3px 1px rgba(60, 64, 67, 0.15);\n",
              "    fill: #174EA6;\n",
              "  }\n",
              "\n",
              "  [theme=dark] .colab-df-quickchart {\n",
              "    background-color: #3B4455;\n",
              "    fill: #D2E3FC;\n",
              "  }\n",
              "\n",
              "  [theme=dark] .colab-df-quickchart:hover {\n",
              "    background-color: #434B5C;\n",
              "    box-shadow: 0px 1px 3px 1px rgba(0, 0, 0, 0.15);\n",
              "    filter: drop-shadow(0px 1px 2px rgba(0, 0, 0, 0.3));\n",
              "    fill: #FFFFFF;\n",
              "  }\n",
              "</style>\n",
              "\n",
              "    <script>\n",
              "      async function quickchart(key) {\n",
              "        const containerElement = document.querySelector('#' + key);\n",
              "        const charts = await google.colab.kernel.invokeFunction(\n",
              "            'suggestCharts', [key], {});\n",
              "      }\n",
              "    </script>\n",
              "\n",
              "      <script>\n",
              "\n",
              "function displayQuickchartButton(domScope) {\n",
              "  let quickchartButtonEl =\n",
              "    domScope.querySelector('#df-bd7cc0c5-8a20-422a-84f6-df312bc5ece2 button.colab-df-quickchart');\n",
              "  quickchartButtonEl.style.display =\n",
              "    google.colab.kernel.accessAllowed ? 'block' : 'none';\n",
              "}\n",
              "\n",
              "        displayQuickchartButton(document);\n",
              "      </script>\n",
              "      <style>\n",
              "    .colab-df-container {\n",
              "      display:flex;\n",
              "      flex-wrap:wrap;\n",
              "      gap: 12px;\n",
              "    }\n",
              "\n",
              "    .colab-df-convert {\n",
              "      background-color: #E8F0FE;\n",
              "      border: none;\n",
              "      border-radius: 50%;\n",
              "      cursor: pointer;\n",
              "      display: none;\n",
              "      fill: #1967D2;\n",
              "      height: 32px;\n",
              "      padding: 0 0 0 0;\n",
              "      width: 32px;\n",
              "    }\n",
              "\n",
              "    .colab-df-convert:hover {\n",
              "      background-color: #E2EBFA;\n",
              "      box-shadow: 0px 1px 2px rgba(60, 64, 67, 0.3), 0px 1px 3px 1px rgba(60, 64, 67, 0.15);\n",
              "      fill: #174EA6;\n",
              "    }\n",
              "\n",
              "    [theme=dark] .colab-df-convert {\n",
              "      background-color: #3B4455;\n",
              "      fill: #D2E3FC;\n",
              "    }\n",
              "\n",
              "    [theme=dark] .colab-df-convert:hover {\n",
              "      background-color: #434B5C;\n",
              "      box-shadow: 0px 1px 3px 1px rgba(0, 0, 0, 0.15);\n",
              "      filter: drop-shadow(0px 1px 2px rgba(0, 0, 0, 0.3));\n",
              "      fill: #FFFFFF;\n",
              "    }\n",
              "  </style>\n",
              "\n",
              "      <script>\n",
              "        const buttonEl =\n",
              "          document.querySelector('#df-083a57db-5d42-46ba-87d3-5e4aa9b9812b button.colab-df-convert');\n",
              "        buttonEl.style.display =\n",
              "          google.colab.kernel.accessAllowed ? 'block' : 'none';\n",
              "\n",
              "        async function convertToInteractive(key) {\n",
              "          const element = document.querySelector('#df-083a57db-5d42-46ba-87d3-5e4aa9b9812b');\n",
              "          const dataTable =\n",
              "            await google.colab.kernel.invokeFunction('convertToInteractive',\n",
              "                                                     [key], {});\n",
              "          if (!dataTable) return;\n",
              "\n",
              "          const docLinkHtml = 'Like what you see? Visit the ' +\n",
              "            '<a target=\"_blank\" href=https://colab.research.google.com/notebooks/data_table.ipynb>data table notebook</a>'\n",
              "            + ' to learn more about interactive tables.';\n",
              "          element.innerHTML = '';\n",
              "          dataTable['output_type'] = 'display_data';\n",
              "          await google.colab.output.renderOutput(dataTable, element);\n",
              "          const docLink = document.createElement('div');\n",
              "          docLink.innerHTML = docLinkHtml;\n",
              "          element.appendChild(docLink);\n",
              "        }\n",
              "      </script>\n",
              "    </div>\n",
              "  </div>\n"
            ]
          },
          "metadata": {},
          "execution_count": 12
        }
      ]
    },
    {
      "cell_type": "markdown",
      "source": [
        "### Variables Description"
      ],
      "metadata": {
        "id": "PBTbrJXOngz2"
      }
    },
    {
      "cell_type": "markdown",
      "source": [
        "id:- Unique Id for the listed property\n",
        "\n",
        "name:- Name of the Listing\n",
        "\n",
        "host_id:- unique id for the host of the property\n",
        "\n",
        "host_name:- Name of the host\n",
        "\n",
        "neighbourhood_group:- location of property\n",
        "\n",
        "neighbourhood:- area of the property\n",
        "\n",
        "latitude:- latitude range\n",
        "\n",
        "longitude:- longitude range\n",
        "\n",
        "room_type:- type of property [private,shared,entire]\n",
        "\n",
        "price:- rent of the property\n",
        "\n",
        "minimum_nights:- min nights to be paid for\n",
        "\n",
        "number_of_reviews:- total reviews made\n",
        "\n",
        "last_review:- date of the last review\n",
        "\n",
        "reviews_per_month:- average reviews\n",
        "\n",
        "calculated_host_listings_count:- total property per host\n",
        "\n",
        "availability_365:- available days around the year"
      ],
      "metadata": {
        "id": "aJV4KIxSnxay"
      }
    },
    {
      "cell_type": "markdown",
      "source": [
        "### Check Unique Values for each variable."
      ],
      "metadata": {
        "id": "u3PMJOP6ngxN"
      }
    },
    {
      "cell_type": "code",
      "source": [
        "# Check Unique Values for each variable.\n",
        "\n",
        "for i in airbnb_df.columns.tolist():\n",
        "  print(\"No. of unique values in \",i,\"is\",airbnb_df[i].nunique(),\".\")"
      ],
      "metadata": {
        "id": "zms12Yq5n-jE",
        "colab": {
          "base_uri": "https://localhost:8080/"
        },
        "outputId": "3235b9ce-334d-494a-892b-4f61fa2dfe4b"
      },
      "execution_count": 13,
      "outputs": [
        {
          "output_type": "stream",
          "name": "stdout",
          "text": [
            "No. of unique values in  id is 48895 .\n",
            "No. of unique values in  name is 47905 .\n",
            "No. of unique values in  host_id is 37457 .\n",
            "No. of unique values in  host_name is 11452 .\n",
            "No. of unique values in  neighbourhood_group is 5 .\n",
            "No. of unique values in  neighbourhood is 221 .\n",
            "No. of unique values in  latitude is 19048 .\n",
            "No. of unique values in  longitude is 14718 .\n",
            "No. of unique values in  room_type is 3 .\n",
            "No. of unique values in  price is 674 .\n",
            "No. of unique values in  minimum_nights is 109 .\n",
            "No. of unique values in  number_of_reviews is 394 .\n",
            "No. of unique values in  last_review is 1764 .\n",
            "No. of unique values in  reviews_per_month is 937 .\n",
            "No. of unique values in  calculated_host_listings_count is 47 .\n",
            "No. of unique values in  availability_365 is 366 .\n"
          ]
        }
      ]
    },
    {
      "cell_type": "markdown",
      "source": [
        "## 3. ***Data Wrangling***"
      ],
      "metadata": {
        "id": "dauF4eBmngu3"
      }
    },
    {
      "cell_type": "markdown",
      "source": [
        "### Data Wrangling Code"
      ],
      "metadata": {
        "id": "bKJF3rekwFvQ"
      }
    },
    {
      "cell_type": "code",
      "source": [
        "# Write your code to make your dataset analysis ready.\n",
        "\n",
        "#Creating a copy of the original dataset so as to perform manipulations and avoid altering the original data set\n",
        "air_df=airbnb_df.copy()"
      ],
      "metadata": {
        "id": "wk-9a2fpoLcV"
      },
      "execution_count": 34,
      "outputs": []
    },
    {
      "cell_type": "code",
      "source": [
        "#filling null values in reviews_per_month column with zero\n",
        "air_df['reviews_per_month'].fillna(0,inplace=True)"
      ],
      "metadata": {
        "id": "JQEyK81blTY6"
      },
      "execution_count": 35,
      "outputs": []
    },
    {
      "cell_type": "code",
      "source": [
        "#filling null values in host_name column with \"not known\"\n",
        "air_df['host_name'].fillna(\"Null Value\",inplace=True)\n",
        "air_df['name'].fillna(\"Not Value\",inplace=True)"
      ],
      "metadata": {
        "id": "XRPcwrAYlXcQ"
      },
      "execution_count": 36,
      "outputs": []
    },
    {
      "cell_type": "code",
      "source": [
        "#converting the last_review column into its original datetime format and also creating a new dataframe zero null values for the same column\n",
        "# Remove rows with missing values in the 'last_review' column\n",
        "na_last_review_df = air_df.dropna(subset=['last_review'])\n",
        "\n",
        "# Convert non-null 'last_review' values to datetime format\n",
        "na_last_review_df['last_review'] = pd.to_datetime(na_last_review_df['last_review'])\n"
      ],
      "metadata": {
        "id": "Pm3s0PpGlm2Z"
      },
      "execution_count": 37,
      "outputs": []
    },
    {
      "cell_type": "code",
      "source": [
        "#since we have lot of values as zero in price column which is an anomaly so creating a new dataframe where we are not considering the records with zero because prices could vary\n",
        "air_df_price_notzero=air_df[air_df['price']!=0]\n"
      ],
      "metadata": {
        "id": "laM_UDXEmDba"
      },
      "execution_count": 38,
      "outputs": []
    },
    {
      "cell_type": "markdown",
      "source": [
        "### What all manipulations have you done and insights you found?"
      ],
      "metadata": {
        "id": "MSa1f5Uengrz"
      }
    },
    {
      "cell_type": "markdown",
      "source": [
        "1. Created a copy of the original dataset.\n",
        "2. Performed data cleaning and handled null values for 3 columns: host name, name, and reviews per month.\n",
        "3. Converted the 'last_review' column into the datetime type.\n",
        "4. Created a new DataFrame specifically for the 'prices' column due to anomalies that make replacing with median impractical.\n",
        "5. Identified outliers in the 'availability_365' and 'minimum_nights' columns, which have unusually high or low values."
      ],
      "metadata": {
        "id": "LbyXE7I1olp8"
      }
    },
    {
      "cell_type": "markdown",
      "source": [
        "## ***4. Data Vizualization, Storytelling & Experimenting with charts : Understand the relationships between variables***"
      ],
      "metadata": {
        "id": "GF8Ens_Soomf"
      }
    },
    {
      "cell_type": "markdown",
      "source": [
        "#### Chart - 1"
      ],
      "metadata": {
        "id": "0wOQAZs5pc--"
      }
    },
    {
      "cell_type": "code",
      "source": [
        "# Chart - 1 average pricing of different room types and which room type is most expensive\n",
        "#plt.figure(figsize=(20,8))\n",
        "sns.barplot(x=air_df_price_notzero['room_type'],y=air_df_price_notzero['price'])\n",
        "plt.xlabel('prices',fontsize=20)\n",
        "plt.ylabel('room type',fontsize=20)\n",
        "plt.title(\"room type v/s avg price\",fontsize=25)"
      ],
      "metadata": {
        "id": "7v_ESjsspbW7",
        "colab": {
          "base_uri": "https://localhost:8080/",
          "height": 516
        },
        "outputId": "3e0ebafe-8cb7-4fe8-8bb6-156e44e7e377"
      },
      "execution_count": 19,
      "outputs": [
        {
          "output_type": "execute_result",
          "data": {
            "text/plain": [
              "Text(0.5, 1.0, 'room type v/s avg price')"
            ]
          },
          "metadata": {},
          "execution_count": 19
        },
        {
          "output_type": "display_data",
          "data": {
            "text/plain": [
              "<Figure size 640x480 with 1 Axes>"
            ],
            "image/png": "[encoded data removed]"
          },
          "metadata": {}
        }
      ]
    },
    {
      "cell_type": "markdown",
      "source": [
        "##### 1. Why did you pick the specific chart?"
      ],
      "metadata": {
        "id": "K5QZ13OEpz2H"
      }
    },
    {
      "cell_type": "markdown",
      "source": [
        "I selected bar chart because its the most simplest and cleanest way to represent the variable having less unique value(room_type) and comparison among them becomes easy."
      ],
      "metadata": {
        "id": "XESiWehPqBRc"
      }
    },
    {
      "cell_type": "markdown",
      "source": [
        "##### 2. What is/are the insight(s) found from the chart?"
      ],
      "metadata": {
        "id": "lQ7QKXXCp7Bj"
      }
    },
    {
      "cell_type": "markdown",
      "source": [
        "we found that the room type entire home/apt is highly priced on an average however shared room being the least priced."
      ],
      "metadata": {
        "id": "C_j1G7yiqdRP"
      }
    },
    {
      "cell_type": "markdown",
      "source": [
        "##### 3. Will the gained insights help creating a positive business impact?\n",
        "Are there any insights that lead to negative growth? Justify with specific reason."
      ],
      "metadata": {
        "id": "448CDAPjqfQr"
      }
    },
    {
      "cell_type": "markdown",
      "source": [
        "yes, according to customer preference we can suggest them with entire home/apt to earn high revenue and also for private room and shared room listing we can motivate hosts for further improvment."
      ],
      "metadata": {
        "id": "3cspy4FjqxJW"
      }
    },
    {
      "cell_type": "markdown",
      "source": [
        "#### Chart - 2"
      ],
      "metadata": {
        "id": "KSlN3yHqYklG"
      }
    },
    {
      "cell_type": "code",
      "source": [
        "# Chart - 2 Every last year reviewed properties VS prices\n",
        "\n",
        "# Group the DataFrame by the year of 'last_review' and calculate count of host IDs and mean price\n",
        "grouped_df = na_last_review_df.groupby(na_last_review_df['last_review'].dt.year).agg({'host_id':'count', 'price':'mean'})\n",
        "\n",
        "# Plot a bar chart to show the distribution of properties count and average prices across years\n",
        "grouped_df.plot(kind='bar', figsize=(10, 10))\n",
        "\n",
        "# Set the plot title, x-axis label, and y-axis label\n",
        "plt.title(\"Distribution of Number of Properties and Their Prices Across Years\")\n",
        "plt.xlabel(\"Years\")\n",
        "plt.ylabel(\"Count\")\n"
      ],
      "metadata": {
        "id": "R4YgtaqtYklH",
        "colab": {
          "base_uri": "https://localhost:8080/",
          "height": 910
        },
        "outputId": "2733edc2-312d-4b13-8758-760bd50d1d55"
      },
      "execution_count": 20,
      "outputs": [
        {
          "output_type": "execute_result",
          "data": {
            "text/plain": [
              "Text(0, 0.5, 'Count')"
            ]
          },
          "metadata": {},
          "execution_count": 20
        },
        {
          "output_type": "display_data",
          "data": {
            "text/plain": [
              "<Figure size 1000x1000 with 1 Axes>"
            ],
            "image/png": "[encoded data removed]"
          },
          "metadata": {}
        }
      ]
    },
    {
      "cell_type": "markdown",
      "source": [
        "##### 1. Why did you pick the specific chart?"
      ],
      "metadata": {
        "id": "t6dVpIINYklI"
      }
    },
    {
      "cell_type": "markdown",
      "source": [
        "we selected this chart because we had limited number of year distribution in dataset ranging from 2011-2019 , also bar graph simplifies the represtation of aggregate of two variables with respect to variation of a single variable."
      ],
      "metadata": {
        "id": "5aaW0BYyYklI"
      }
    },
    {
      "cell_type": "markdown",
      "source": [
        "##### 2. What is/are the insight(s) found from the chart?"
      ],
      "metadata": {
        "id": "ijmpgYnKYklI"
      }
    },
    {
      "cell_type": "markdown",
      "source": [
        "most of the properties were reviewed in the year 2019 and in the year 2013 prices of those properties were on a slightly higher side."
      ],
      "metadata": {
        "id": "PSx9atu2YklI"
      }
    },
    {
      "cell_type": "markdown",
      "source": [
        "##### 3. Will the gained insights help creating a positive business impact?\n",
        "Are there any insights that lead to negative growth? Justify with specific reason."
      ],
      "metadata": {
        "id": "-JiQyfWJYklI"
      }
    },
    {
      "cell_type": "markdown",
      "source": [
        "Over time, there has been a noticeable increase in the number of properties being listed on Airbnb. As a result, more properties are also being reviewed by guests. However, to prepare for the upcoming years, further attention and analysis are required. This will allow us to better understand the trends and factors contributing to the continuous growth of properties and reviews in the future."
      ],
      "metadata": {
        "id": "BcBbebzrYklV"
      }
    },
    {
      "cell_type": "markdown",
      "source": [
        "#### Chart - 3"
      ],
      "metadata": {
        "id": "EM7whBJCYoAo"
      }
    },
    {
      "cell_type": "code",
      "source": [
        "# Chart - 3 How different properties in neighbourhood_group varies in terms of factors like price , minimum night booking , number of reviews and also the availability ?\n",
        "air_df_price_notzero[['minimum_nights','price','number_of_reviews','neighbourhood_group','availability_365']].groupby(\"neighbourhood_group\").mean().plot(figsize=(10,8), marker='*')\n",
        "plt.title(\"variation across neighbourhood group\")\n",
        "plt.xlabel(\"Areas\")\n",
        "plt.ylabel(\"variations\")\n"
      ],
      "metadata": {
        "id": "t6GMdE67YoAp",
        "colab": {
          "base_uri": "https://localhost:8080/",
          "height": 735
        },
        "outputId": "65252d23-8d0d-428b-a312-8411b4e111ee"
      },
      "execution_count": 39,
      "outputs": [
        {
          "output_type": "execute_result",
          "data": {
            "text/plain": [
              "Text(0, 0.5, 'variations')"
            ]
          },
          "metadata": {},
          "execution_count": 39
        },
        {
          "output_type": "display_data",
          "data": {
            "text/plain": [
              "<Figure size 1000x800 with 1 Axes>"
            ],
            "image/png": "[encoded data removed]"
          },
          "metadata": {}
        }
      ]
    },
    {
      "cell_type": "markdown",
      "source": [
        "##### 1. Why did you pick the specific chart?"
      ],
      "metadata": {
        "id": "fge-S5ZAYoAp"
      }
    },
    {
      "cell_type": "markdown",
      "source": [
        "line charts are generally helpful while we have to reflect or perform analysis across different variables and understand their trends across common factor ,in this case it is areas."
      ],
      "metadata": {
        "id": "5dBItgRVYoAp"
      }
    },
    {
      "cell_type": "markdown",
      "source": [
        "##### 2. What is/are the insight(s) found from the chart?"
      ],
      "metadata": {
        "id": "85gYPyotYoAp"
      }
    },
    {
      "cell_type": "markdown",
      "source": [
        "In terms of price, Manhattan properties have the highest values, while Bronx properties have the lowest values.\n",
        "When considering the average availability throughout the year, Staten Island properties have the highest availability, while Brooklyn properties have the lowest availability.\n",
        "The trend lines for the number of reviews and minimum nights are relatively similar."
      ],
      "metadata": {
        "id": "4jstXR6OYoAp"
      }
    },
    {
      "cell_type": "markdown",
      "source": [
        "##### 3. Will the gained insights help creating a positive business impact?\n",
        "Are there any insights that lead to negative growth? Justify with specific reason."
      ],
      "metadata": {
        "id": "RoGjAbkUYoAp"
      }
    },
    {
      "cell_type": "markdown",
      "source": [
        "Considering that Manhattan has highly priced properties but an average availability, there is an opportunity to encourage hosts in this area to increase availability. This could potentially lead to higher turnover and increased guest satisfaction. Additionally, since the number of reviews for Manhattan is relatively low, focusing on encouraging more reviews from guests can help build credibility and attract more potential guests to experience the offerings of this prestigious location"
      ],
      "metadata": {
        "id": "zfJ8IqMcYoAp"
      }
    },
    {
      "cell_type": "markdown",
      "source": [
        "#### Chart - 4"
      ],
      "metadata": {
        "id": "4Of9eVA-YrdM"
      }
    },
    {
      "cell_type": "code",
      "source": [
        "# Chart - 4 Distribution of Revenue from Different Areas\n",
        "\n",
        "# Filter the DataFrame to get the rows with the maximum 'calculated_host_listings_count' and corresponding host name\n",
        "maxhold_df = air_df[air_df['host_name'] == air_df.iloc[air_df['calculated_host_listings_count'].idxmax()]['host_name']]\n",
        "\n",
        "# Group the filtered DataFrame by neighbourhood and calculate the sum of prices\n",
        "group_df = maxhold_df.groupby('neighbourhood')['price'].sum()\n",
        "\n",
        "\n",
        "# Plot a bar chart to show the distribution of revenue from different areas\n",
        "group_df.plot(kind='bar', color='red', figsize=(10, 5))\n",
        "\n",
        "# Set the plot title, x-axis label, and y-axis label\n",
        "plt.title(\"Distribution of Revenue from Different Areas\")\n",
        "plt.xlabel(\"Areas\")\n",
        "plt.ylabel(\"Revenue\")\n"
      ],
      "metadata": {
        "id": "irlUoxc8YrdO",
        "colab": {
          "base_uri": "https://localhost:8080/",
          "height": 605
        },
        "outputId": "7a55e290-b48c-4968-c3a5-fdc5a5c891be"
      },
      "execution_count": 45,
      "outputs": [
        {
          "output_type": "execute_result",
          "data": {
            "text/plain": [
              "Text(0, 0.5, 'Revenue')"
            ]
          },
          "metadata": {},
          "execution_count": 45
        },
        {
          "output_type": "display_data",
          "data": {
            "text/plain": [
              "<Figure size 1000x500 with 1 Axes>"
            ],
            "image/png": "[encoded data removed]"
          },
          "metadata": {}
        }
      ]
    },
    {
      "cell_type": "markdown",
      "source": [
        "##### 1. Why did you pick the specific chart?"
      ],
      "metadata": {
        "id": "iky9q4vBYrdO"
      }
    },
    {
      "cell_type": "markdown",
      "source": [
        "A bar chart presents the analysis in an appealing and informative manner. This graphical representation allows us to easily comprehend the revenue generated in each area, making it an ideal choice for visualizing the data. The chart effectively conveys the financial performance of different areas, enabling us to grasp the revenue variations across the locations effortlessly."
      ],
      "metadata": {
        "id": "aJRCwT6DYrdO"
      }
    },
    {
      "cell_type": "markdown",
      "source": [
        "##### 2. What is/are the insight(s) found from the chart?"
      ],
      "metadata": {
        "id": "F6T5p64dYrdO"
      }
    },
    {
      "cell_type": "markdown",
      "source": [
        "The person earns most of the income/revenue from financial district area, murray hills follows by that , and chelsea and upper east side being lowest revenue generators."
      ],
      "metadata": {
        "id": "Xx8WAJvtYrdO"
      }
    },
    {
      "cell_type": "markdown",
      "source": [
        "##### 3. Will the gained insights help creating a positive business impact?\n",
        "Are there any insights that lead to negative growth? Justify with specific reason."
      ],
      "metadata": {
        "id": "y-Ehk30pYrdP"
      }
    },
    {
      "cell_type": "markdown",
      "source": [
        "\n",
        "To maximize revenue, it's recommended to increase the number of listings in the Financial District and attract high-paying customers. Simultaneously, conducting research on regions with lower property prices allows us to contribute to their growth. By balancing our focus between the lucrative Financial District and untapped areas, we can achieve overall success and cater to a diverse range of customers."
      ],
      "metadata": {
        "id": "jLNxxz7MYrdP"
      }
    },
    {
      "cell_type": "markdown",
      "source": [
        "#### Chart - 5"
      ],
      "metadata": {
        "id": "bamQiAODYuh1"
      }
    },
    {
      "cell_type": "code",
      "source": [
        "# Chart - 5 Percentage Distribution of Listings in Different Areas Preferred by Guests\n",
        "\n",
        "# Calculate the count of listings in each neighbourhood group\n",
        "num_df = air_df['neighbourhood_group'].value_counts()\n",
        "\n",
        "# Plot a pie chart to show the percentage distribution of listings in different areas preferred by guests\n",
        "num_df.plot(kind='pie', legend=True, figsize=(10, 9),autopct='%1f%%', explode=[0.05, 0.05, 0.05, 0.05, 0.05], shadow=True)\n",
        "\n",
        "# Set the plot title\n",
        "plt.title(\"Percentage Distribution of Listings in Different Areas Preferred by Guests\")\n"
      ],
      "metadata": {
        "id": "TIJwrbroYuh3",
        "colab": {
          "base_uri": "https://localhost:8080/",
          "height": 769
        },
        "outputId": "83910909-8e94-4ade-a2ad-e7de1c800947"
      },
      "execution_count": 23,
      "outputs": [
        {
          "output_type": "execute_result",
          "data": {
            "text/plain": [
              "Text(0.5, 1.0, 'Percentage Distribution of Listings in Different Areas Preferred by Guests')"
            ]
          },
          "metadata": {},
          "execution_count": 23
        },
        {
          "output_type": "display_data",
          "data": {
            "text/plain": [
              "<Figure size 1000x900 with 1 Axes>"
            ],
            "image/png": "[encoded data removed]"
          },
          "metadata": {}
        }
      ]
    },
    {
      "cell_type": "markdown",
      "source": [
        "##### 1. Why did you pick the specific chart?"
      ],
      "metadata": {
        "id": "QHF8YVU7Yuh3"
      }
    },
    {
      "cell_type": "markdown",
      "source": [
        "This visualization offers a clear view of the distribution of properties across different areas, showcasing the percentage of listings in each area. It provides a straightforward and easily understandable representation of how properties are spread out among various locations."
      ],
      "metadata": {
        "id": "dcxuIMRPYuh3"
      }
    },
    {
      "cell_type": "markdown",
      "source": [
        "##### 2. What is/are the insight(s) found from the chart?"
      ],
      "metadata": {
        "id": "GwzvFGzlYuh3"
      }
    },
    {
      "cell_type": "markdown",
      "source": [
        "The data indicates that Manhattan has the highest percentage of property listings, followed by Brooklyn. In contrast, Staten Island has a significantly lower number of properties being listed. This inference suggests that Manhattan is the preferred hub for most travelers, as it attracts a larger share of listings compared to other areas."
      ],
      "metadata": {
        "id": "uyqkiB8YYuh3"
      }
    },
    {
      "cell_type": "markdown",
      "source": [
        "##### 3. Will the gained insights help creating a positive business impact?\n",
        "Are there any insights that lead to negative growth? Justify with specific reason."
      ],
      "metadata": {
        "id": "qYpmQ266Yuh3"
      }
    },
    {
      "cell_type": "markdown",
      "source": [
        "To enhance business opportunities and cater to guest preferences, it is advisable to focus on registering more listings in areas like Staten Island. By increasing the availability of properties in these areas, we can provide a wider range of options for guests, making it more convenient and appealing for them to choose accommodations in these locations. This strategy not only promotes inclusivity and diversity but also has the potential to uplift the business by tapping into untapped markets and attracting a broader customer base."
      ],
      "metadata": {
        "id": "_WtzZ_hCYuh4"
      }
    },
    {
      "cell_type": "markdown",
      "source": [
        "#### Chart - 6"
      ],
      "metadata": {
        "id": "OH-pJp9IphqM"
      }
    },
    {
      "cell_type": "code",
      "source": [
        "# Chart - 6  percentage of properties reviewed across the years.\n",
        "\n",
        "# Calculate the count of properties reviewed in each year\n",
        "review_1 = na_last_review_df['last_review'].dt.year.value_counts()\n",
        "\n",
        "# Plot a pie chart to show the percentage of properties reviewed across different years\n",
        "review_1.plot(kind='pie', legend=True, autopct='%1.2f%%', startangle=180, figsize=(10, 12))\n",
        "\n",
        "# Set the plot title\n",
        "plt.title(\"Percentage of Properties Reviewed Across Different Years\")\n"
      ],
      "metadata": {
        "id": "kuRf4wtuphqN",
        "colab": {
          "base_uri": "https://localhost:8080/",
          "height": 851
        },
        "outputId": "934249c0-3dcc-4446-d1fc-de8ad10befa9"
      },
      "execution_count": 24,
      "outputs": [
        {
          "output_type": "execute_result",
          "data": {
            "text/plain": [
              "Text(0.5, 1.0, 'Percentage of Properties Reviewed Across Different Years')"
            ]
          },
          "metadata": {},
          "execution_count": 24
        },
        {
          "output_type": "display_data",
          "data": {
            "text/plain": [
              "<Figure size 1000x1200 with 1 Axes>"
            ],
            "image/png": "[encoded data removed]"
          },
          "metadata": {}
        }
      ]
    },
    {
      "cell_type": "markdown",
      "source": [
        "##### 1. Why did you pick the specific chart?"
      ],
      "metadata": {
        "id": "bbFf2-_FphqN"
      }
    },
    {
      "cell_type": "markdown",
      "source": [
        "\n",
        "This visualization presents the distribution of reviews across each year in a clear and detailed manner. It showcases the percentage of properties that received reviews each year, providing a comprehensive understanding of the review trends over time.\n"
      ],
      "metadata": {
        "id": "loh7H2nzphqN"
      }
    },
    {
      "cell_type": "markdown",
      "source": [
        "##### 2. What is/are the insight(s) found from the chart?"
      ],
      "metadata": {
        "id": "_ouA3fa0phqN"
      }
    },
    {
      "cell_type": "markdown",
      "source": [
        "In 2019, the highest number of properties received reviews, which is a positive trend as the percentage of reviewed properties has been consistently increasing over the years.\n"
      ],
      "metadata": {
        "id": "VECbqPI7phqN"
      }
    },
    {
      "cell_type": "markdown",
      "source": [
        "##### 3. Will the gained insights help creating a positive business impact?\n",
        "Are there any insights that lead to negative growth? Justify with specific reason."
      ],
      "metadata": {
        "id": "Seke61FWphqN"
      }
    },
    {
      "cell_type": "markdown",
      "source": [
        "Initially, people may not have been aware of the option to review properties on Airbnb, or the platform itself may not have been widely known. However, as the years passed, there was a gradual shift towards valuing and providing feedback. This indicates a growing trend of users recognizing the importance of sharing their experiences and opinions on Airbnb."
      ],
      "metadata": {
        "id": "DW4_bGpfphqN"
      }
    },
    {
      "cell_type": "markdown",
      "source": [
        "#### Chart - 7"
      ],
      "metadata": {
        "id": "PIIx-8_IphqN"
      }
    },
    {
      "cell_type": "code",
      "source": [
        "# Chart - 7 visualization code"
      ],
      "metadata": {
        "id": "lqAIGUfyphqO"
      },
      "execution_count": 25,
      "outputs": []
    },
    {
      "cell_type": "markdown",
      "source": [
        "##### 1. Why did you pick the specific chart?"
      ],
      "metadata": {
        "id": "t27r6nlMphqO"
      }
    },
    {
      "cell_type": "markdown",
      "source": [
        "Answer Here."
      ],
      "metadata": {
        "id": "iv6ro40sphqO"
      }
    },
    {
      "cell_type": "markdown",
      "source": [
        "##### 2. What is/are the insight(s) found from the chart?"
      ],
      "metadata": {
        "id": "r2jJGEOYphqO"
      }
    },
    {
      "cell_type": "markdown",
      "source": [
        "Answer Here"
      ],
      "metadata": {
        "id": "Po6ZPi4hphqO"
      }
    },
    {
      "cell_type": "markdown",
      "source": [
        "##### 3. Will the gained insights help creating a positive business impact?\n",
        "Are there any insights that lead to negative growth? Justify with specific reason."
      ],
      "metadata": {
        "id": "b0JNsNcRphqO"
      }
    },
    {
      "cell_type": "markdown",
      "source": [
        "Answer Here"
      ],
      "metadata": {
        "id": "xvSq8iUTphqO"
      }
    },
    {
      "cell_type": "markdown",
      "source": [
        "#### Chart - 8"
      ],
      "metadata": {
        "id": "BZR9WyysphqO"
      }
    },
    {
      "cell_type": "code",
      "source": [
        "# Chart - 8 visualization code"
      ],
      "metadata": {
        "id": "TdPTWpAVphqO"
      },
      "execution_count": 26,
      "outputs": []
    },
    {
      "cell_type": "markdown",
      "source": [
        "##### 1. Why did you pick the specific chart?"
      ],
      "metadata": {
        "id": "jj7wYXLtphqO"
      }
    },
    {
      "cell_type": "markdown",
      "source": [
        "Answer Here."
      ],
      "metadata": {
        "id": "Ob8u6rCTphqO"
      }
    },
    {
      "cell_type": "markdown",
      "source": [
        "##### 2. What is/are the insight(s) found from the chart?"
      ],
      "metadata": {
        "id": "eZrbJ2SmphqO"
      }
    },
    {
      "cell_type": "markdown",
      "source": [
        "Answer Here"
      ],
      "metadata": {
        "id": "mZtgC_hjphqO"
      }
    },
    {
      "cell_type": "markdown",
      "source": [
        "##### 3. Will the gained insights help creating a positive business impact?\n",
        "Are there any insights that lead to negative growth? Justify with specific reason."
      ],
      "metadata": {
        "id": "rFu4xreNphqO"
      }
    },
    {
      "cell_type": "markdown",
      "source": [
        "Answer Here"
      ],
      "metadata": {
        "id": "ey_0qi68phqO"
      }
    },
    {
      "cell_type": "markdown",
      "source": [
        "#### Chart - 9"
      ],
      "metadata": {
        "id": "YJ55k-q6phqO"
      }
    },
    {
      "cell_type": "code",
      "source": [
        "# Chart - 9 visualization code"
      ],
      "metadata": {
        "id": "B2aS4O1ophqO"
      },
      "execution_count": 27,
      "outputs": []
    },
    {
      "cell_type": "markdown",
      "source": [
        "##### 1. Why did you pick the specific chart?"
      ],
      "metadata": {
        "id": "gCFgpxoyphqP"
      }
    },
    {
      "cell_type": "markdown",
      "source": [
        "Answer Here."
      ],
      "metadata": {
        "id": "TVxDimi2phqP"
      }
    },
    {
      "cell_type": "markdown",
      "source": [
        "##### 2. What is/are the insight(s) found from the chart?"
      ],
      "metadata": {
        "id": "OVtJsKN_phqQ"
      }
    },
    {
      "cell_type": "markdown",
      "source": [
        "Answer Here"
      ],
      "metadata": {
        "id": "ngGi97qjphqQ"
      }
    },
    {
      "cell_type": "markdown",
      "source": [
        "##### 3. Will the gained insights help creating a positive business impact?\n",
        "Are there any insights that lead to negative growth? Justify with specific reason."
      ],
      "metadata": {
        "id": "lssrdh5qphqQ"
      }
    },
    {
      "cell_type": "markdown",
      "source": [
        "Answer Here"
      ],
      "metadata": {
        "id": "tBpY5ekJphqQ"
      }
    },
    {
      "cell_type": "markdown",
      "source": [
        "#### Chart - 10"
      ],
      "metadata": {
        "id": "U2RJ9gkRphqQ"
      }
    },
    {
      "cell_type": "code",
      "source": [
        "# Chart - 10 visualization code"
      ],
      "metadata": {
        "id": "GM7a4YP4phqQ"
      },
      "execution_count": 28,
      "outputs": []
    },
    {
      "cell_type": "markdown",
      "source": [
        "##### 1. Why did you pick the specific chart?"
      ],
      "metadata": {
        "id": "1M8mcRywphqQ"
      }
    },
    {
      "cell_type": "markdown",
      "source": [
        "Answer Here."
      ],
      "metadata": {
        "id": "8agQvks0phqQ"
      }
    },
    {
      "cell_type": "markdown",
      "source": [
        "##### 2. What is/are the insight(s) found from the chart?"
      ],
      "metadata": {
        "id": "tgIPom80phqQ"
      }
    },
    {
      "cell_type": "markdown",
      "source": [
        "Answer Here"
      ],
      "metadata": {
        "id": "Qp13pnNzphqQ"
      }
    },
    {
      "cell_type": "markdown",
      "source": [
        "##### 3. Will the gained insights help creating a positive business impact?\n",
        "Are there any insights that lead to negative growth? Justify with specific reason."
      ],
      "metadata": {
        "id": "JMzcOPDDphqR"
      }
    },
    {
      "cell_type": "markdown",
      "source": [
        "Answer Here"
      ],
      "metadata": {
        "id": "R4Ka1PC2phqR"
      }
    },
    {
      "cell_type": "markdown",
      "source": [
        "#### Chart - 11"
      ],
      "metadata": {
        "id": "x-EpHcCOp1ci"
      }
    },
    {
      "cell_type": "code",
      "source": [
        "# Chart - 11 visualization code"
      ],
      "metadata": {
        "id": "mAQTIvtqp1cj"
      },
      "execution_count": 29,
      "outputs": []
    },
    {
      "cell_type": "markdown",
      "source": [
        "##### 1. Why did you pick the specific chart?"
      ],
      "metadata": {
        "id": "X_VqEhTip1ck"
      }
    },
    {
      "cell_type": "markdown",
      "source": [
        "Answer Here."
      ],
      "metadata": {
        "id": "-vsMzt_np1ck"
      }
    },
    {
      "cell_type": "markdown",
      "source": [
        "##### 2. What is/are the insight(s) found from the chart?"
      ],
      "metadata": {
        "id": "8zGJKyg5p1ck"
      }
    },
    {
      "cell_type": "markdown",
      "source": [
        "Answer Here"
      ],
      "metadata": {
        "id": "ZYdMsrqVp1ck"
      }
    },
    {
      "cell_type": "markdown",
      "source": [
        "##### 3. Will the gained insights help creating a positive business impact?\n",
        "Are there any insights that lead to negative growth? Justify with specific reason."
      ],
      "metadata": {
        "id": "PVzmfK_Ep1ck"
      }
    },
    {
      "cell_type": "markdown",
      "source": [
        "Answer Here"
      ],
      "metadata": {
        "id": "druuKYZpp1ck"
      }
    },
    {
      "cell_type": "markdown",
      "source": [
        "#### Chart - 12"
      ],
      "metadata": {
        "id": "n3dbpmDWp1ck"
      }
    },
    {
      "cell_type": "code",
      "source": [
        "# Chart - 12 visualization code"
      ],
      "metadata": {
        "id": "bwevp1tKp1ck"
      },
      "execution_count": 30,
      "outputs": []
    },
    {
      "cell_type": "markdown",
      "source": [
        "##### 1. Why did you pick the specific chart?"
      ],
      "metadata": {
        "id": "ylSl6qgtp1ck"
      }
    },
    {
      "cell_type": "markdown",
      "source": [
        "Answer Here."
      ],
      "metadata": {
        "id": "m2xqNkiQp1ck"
      }
    },
    {
      "cell_type": "markdown",
      "source": [
        "##### 2. What is/are the insight(s) found from the chart?"
      ],
      "metadata": {
        "id": "ZWILFDl5p1ck"
      }
    },
    {
      "cell_type": "markdown",
      "source": [
        "Answer Here"
      ],
      "metadata": {
        "id": "x-lUsV2mp1ck"
      }
    },
    {
      "cell_type": "markdown",
      "source": [
        "##### 3. Will the gained insights help creating a positive business impact?\n",
        "Are there any insights that lead to negative growth? Justify with specific reason."
      ],
      "metadata": {
        "id": "M7G43BXep1ck"
      }
    },
    {
      "cell_type": "markdown",
      "source": [
        "Answer Here"
      ],
      "metadata": {
        "id": "5wwDJXsLp1cl"
      }
    },
    {
      "cell_type": "markdown",
      "source": [
        "#### Chart - 13"
      ],
      "metadata": {
        "id": "Ag9LCva-p1cl"
      }
    },
    {
      "cell_type": "code",
      "source": [
        "# Chart - 13 visualization code"
      ],
      "metadata": {
        "id": "EUfxeq9-p1cl"
      },
      "execution_count": 31,
      "outputs": []
    },
    {
      "cell_type": "markdown",
      "source": [
        "##### 1. Why did you pick the specific chart?"
      ],
      "metadata": {
        "id": "E6MkPsBcp1cl"
      }
    },
    {
      "cell_type": "markdown",
      "source": [
        "Answer Here."
      ],
      "metadata": {
        "id": "V22bRsFWp1cl"
      }
    },
    {
      "cell_type": "markdown",
      "source": [
        "##### 2. What is/are the insight(s) found from the chart?"
      ],
      "metadata": {
        "id": "2cELzS2fp1cl"
      }
    },
    {
      "cell_type": "markdown",
      "source": [
        "Answer Here"
      ],
      "metadata": {
        "id": "ozQPc2_Ip1cl"
      }
    },
    {
      "cell_type": "markdown",
      "source": [
        "##### 3. Will the gained insights help creating a positive business impact?\n",
        "Are there any insights that lead to negative growth? Justify with specific reason."
      ],
      "metadata": {
        "id": "3MPXvC8up1cl"
      }
    },
    {
      "cell_type": "markdown",
      "source": [
        "Answer Here"
      ],
      "metadata": {
        "id": "GL8l1tdLp1cl"
      }
    },
    {
      "cell_type": "markdown",
      "source": [
        "#### Chart - 14 - Correlation Heatmap"
      ],
      "metadata": {
        "id": "NC_X3p0fY2L0"
      }
    },
    {
      "cell_type": "code",
      "source": [
        "# Correlation Heatmap visualization code"
      ],
      "metadata": {
        "id": "xyC9zolEZNRQ"
      },
      "execution_count": 32,
      "outputs": []
    },
    {
      "cell_type": "markdown",
      "source": [
        "##### 1. Why did you pick the specific chart?"
      ],
      "metadata": {
        "id": "UV0SzAkaZNRQ"
      }
    },
    {
      "cell_type": "markdown",
      "source": [
        "Answer Here."
      ],
      "metadata": {
        "id": "DVPuT8LYZNRQ"
      }
    },
    {
      "cell_type": "markdown",
      "source": [
        "##### 2. What is/are the insight(s) found from the chart?"
      ],
      "metadata": {
        "id": "YPEH6qLeZNRQ"
      }
    },
    {
      "cell_type": "markdown",
      "source": [
        "Answer Here"
      ],
      "metadata": {
        "id": "bfSqtnDqZNRR"
      }
    },
    {
      "cell_type": "markdown",
      "source": [
        "#### Chart - 15 - Pair Plot"
      ],
      "metadata": {
        "id": "q29F0dvdveiT"
      }
    },
    {
      "cell_type": "code",
      "source": [
        "# Pair Plot visualization code"
      ],
      "metadata": {
        "id": "o58-TEIhveiU"
      },
      "execution_count": 33,
      "outputs": []
    },
    {
      "cell_type": "markdown",
      "source": [
        "##### 1. Why did you pick the specific chart?"
      ],
      "metadata": {
        "id": "EXh0U9oCveiU"
      }
    },
    {
      "cell_type": "markdown",
      "source": [
        "Answer Here."
      ],
      "metadata": {
        "id": "eMmPjTByveiU"
      }
    },
    {
      "cell_type": "markdown",
      "source": [
        "##### 2. What is/are the insight(s) found from the chart?"
      ],
      "metadata": {
        "id": "22aHeOlLveiV"
      }
    },
    {
      "cell_type": "markdown",
      "source": [
        "Answer Here"
      ],
      "metadata": {
        "id": "uPQ8RGwHveiV"
      }
    },
    {
      "cell_type": "markdown",
      "source": [
        "## **5. Solution to Business Objective**"
      ],
      "metadata": {
        "id": "JcMwzZxoAimU"
      }
    },
    {
      "cell_type": "markdown",
      "source": [
        "#### What do you suggest the client to achieve Business Objective ?\n",
        "Explain Briefly."
      ],
      "metadata": {
        "id": "8G2x9gOozGDZ"
      }
    },
    {
      "cell_type": "markdown",
      "source": [
        "Answer Here."
      ],
      "metadata": {
        "id": "pASKb0qOza21"
      }
    },
    {
      "cell_type": "markdown",
      "source": [
        "# **Conclusion**"
      ],
      "metadata": {
        "id": "gCX9965dhzqZ"
      }
    },
    {
      "cell_type": "markdown",
      "source": [
        "Write the conclusion here."
      ],
      "metadata": {
        "id": "Fjb1IsQkh3yE"
      }
    },
    {
      "cell_type": "markdown",
      "source": [
        "### ***Hurrah! You have successfully completed your EDA Capstone Project !!!***"
      ],
      "metadata": {
        "id": "gIfDvo9L0UH2"
      }
    }
  ]
}